{
  "nbformat": 4,
  "nbformat_minor": 0,
  "metadata": {
    "colab": {
      "provenance": [],
      "authorship_tag": "ABX9TyP38pGVRuXipqNMinAwEE/J",
      "include_colab_link": true
    },
    "kernelspec": {
      "name": "python3",
      "display_name": "Python 3"
    },
    "language_info": {
      "name": "python"
    }
  },
  "cells": [
    {
      "cell_type": "markdown",
      "metadata": {
        "id": "view-in-github",
        "colab_type": "text"
      },
      "source": [
        "<a href=\"https://colab.research.google.com/github/Ishanml/python/blob/main/Week5(Part1).ipynb\" target=\"_parent\"><img src=\"https://colab.research.google.com/assets/colab-badge.svg\" alt=\"Open In Colab\"/></a>"
      ]
    },
    {
      "cell_type": "code",
      "source": [
        "f = open(\"test.txt\",'a' )"
      ],
      "metadata": {
        "id": "sNAA4LwmCJtj"
      },
      "execution_count": 59,
      "outputs": []
    },
    {
      "cell_type": "code",
      "source": [
        "pwd"
      ],
      "metadata": {
        "colab": {
          "base_uri": "https://localhost:8080/",
          "height": 36
        },
        "id": "PWxnphJCAkmn",
        "outputId": "87dd5597-d8ce-454d-bc97-1e7100b9936c"
      },
      "execution_count": 60,
      "outputs": [
        {
          "output_type": "execute_result",
          "data": {
            "text/plain": [
              "'/content'"
            ],
            "application/vnd.google.colaboratory.intrinsic+json": {
              "type": "string"
            }
          },
          "metadata": {},
          "execution_count": 60
        }
      ]
    },
    {
      "cell_type": "code",
      "source": [
        "ls"
      ],
      "metadata": {
        "colab": {
          "base_uri": "https://localhost:8080/"
        },
        "id": "anrmh_SHA0hE",
        "outputId": "3b38e094-3e3b-4b82-e844-1c2be2a86799"
      },
      "execution_count": 61,
      "outputs": [
        {
          "output_type": "stream",
          "name": "stdout",
          "text": [
            "new_test.txt  \u001b[0m\u001b[01;34msample_data\u001b[0m/  test1.json  test3.csv  test4.bin  test.txt\n"
          ]
        }
      ]
    },
    {
      "cell_type": "code",
      "source": [
        "f.write(\"this is my first write operation in the file Ishan \")"
      ],
      "metadata": {
        "colab": {
          "base_uri": "https://localhost:8080/"
        },
        "id": "t6loWFYCA672",
        "outputId": "20dac370-9c6f-4e62-9b98-d2160867143b"
      },
      "execution_count": 62,
      "outputs": [
        {
          "output_type": "execute_result",
          "data": {
            "text/plain": [
              "51"
            ]
          },
          "metadata": {},
          "execution_count": 62
        }
      ]
    },
    {
      "cell_type": "code",
      "source": [
        "f.close()"
      ],
      "metadata": {
        "id": "BOgjt0YNBGtV"
      },
      "execution_count": 63,
      "outputs": []
    },
    {
      "cell_type": "code",
      "source": [
        "data = open(\"test.txt\", \"r\")"
      ],
      "metadata": {
        "id": "nFE-KrpnB_7l"
      },
      "execution_count": 64,
      "outputs": []
    },
    {
      "cell_type": "code",
      "source": [
        "data.read()"
      ],
      "metadata": {
        "colab": {
          "base_uri": "https://localhost:8080/",
          "height": 70
        },
        "id": "x-DLXHjSC6kv",
        "outputId": "ec2058dc-70e4-4f18-9970-b15f2c973584"
      },
      "execution_count": 65,
      "outputs": [
        {
          "output_type": "execute_result",
          "data": {
            "text/plain": [
              "'LMU offers state-of-the-art research infrastructure, an outstanding international network, attractive career opportunities and a broad spectrum of continuing personal development programs. In doing so, LMU supports its members in nurturing their talents and helping to shape their working environment.\\nthis is my second line that i am trying to writethis is my first write operation in the file Ishan '"
            ],
            "application/vnd.google.colaboratory.intrinsic+json": {
              "type": "string"
            }
          },
          "metadata": {},
          "execution_count": 65
        }
      ]
    },
    {
      "cell_type": "code",
      "source": [
        "data.read()"
      ],
      "metadata": {
        "colab": {
          "base_uri": "https://localhost:8080/",
          "height": 36
        },
        "id": "lYoxwqZkC8F8",
        "outputId": "93e08a70-c094-4863-8549-f6b355fdc940"
      },
      "execution_count": 66,
      "outputs": [
        {
          "output_type": "execute_result",
          "data": {
            "text/plain": [
              "''"
            ],
            "application/vnd.google.colaboratory.intrinsic+json": {
              "type": "string"
            }
          },
          "metadata": {},
          "execution_count": 66
        }
      ]
    },
    {
      "cell_type": "code",
      "source": [
        "data.seek(0)"
      ],
      "metadata": {
        "colab": {
          "base_uri": "https://localhost:8080/"
        },
        "id": "P8AMkQhHDJmF",
        "outputId": "322296f1-9f92-4f9c-d118-52c167151ad7"
      },
      "execution_count": 67,
      "outputs": [
        {
          "output_type": "execute_result",
          "data": {
            "text/plain": [
              "0"
            ]
          },
          "metadata": {},
          "execution_count": 67
        }
      ]
    },
    {
      "cell_type": "code",
      "source": [
        "data.read()"
      ],
      "metadata": {
        "colab": {
          "base_uri": "https://localhost:8080/",
          "height": 70
        },
        "id": "R8VKbtzgDVaq",
        "outputId": "4187a9e9-0c22-4f2c-8a21-8cedd356a953"
      },
      "execution_count": 68,
      "outputs": [
        {
          "output_type": "execute_result",
          "data": {
            "text/plain": [
              "'LMU offers state-of-the-art research infrastructure, an outstanding international network, attractive career opportunities and a broad spectrum of continuing personal development programs. In doing so, LMU supports its members in nurturing their talents and helping to shape their working environment.\\nthis is my second line that i am trying to writethis is my first write operation in the file Ishan '"
            ],
            "application/vnd.google.colaboratory.intrinsic+json": {
              "type": "string"
            }
          },
          "metadata": {},
          "execution_count": 68
        }
      ]
    },
    {
      "cell_type": "code",
      "source": [
        "data.seek(10)"
      ],
      "metadata": {
        "colab": {
          "base_uri": "https://localhost:8080/"
        },
        "id": "Ckz7iQJ0DYue",
        "outputId": "7a633948-f7da-42ae-af7c-91549e8e195c"
      },
      "execution_count": 69,
      "outputs": [
        {
          "output_type": "execute_result",
          "data": {
            "text/plain": [
              "10"
            ]
          },
          "metadata": {},
          "execution_count": 69
        }
      ]
    },
    {
      "cell_type": "code",
      "source": [
        "data.read()"
      ],
      "metadata": {
        "colab": {
          "base_uri": "https://localhost:8080/",
          "height": 70
        },
        "id": "dy0l2bAvDe0L",
        "outputId": "bcb3b882-2c6a-4233-fff1-f500755bc6b7"
      },
      "execution_count": 70,
      "outputs": [
        {
          "output_type": "execute_result",
          "data": {
            "text/plain": [
              "' state-of-the-art research infrastructure, an outstanding international network, attractive career opportunities and a broad spectrum of continuing personal development programs. In doing so, LMU supports its members in nurturing their talents and helping to shape their working environment.\\nthis is my second line that i am trying to writethis is my first write operation in the file Ishan '"
            ],
            "application/vnd.google.colaboratory.intrinsic+json": {
              "type": "string"
            }
          },
          "metadata": {},
          "execution_count": 70
        }
      ]
    },
    {
      "cell_type": "code",
      "source": [
        "data1 = open(\"test.txt\", 'r')"
      ],
      "metadata": {
        "id": "mq-QPfd0Dha4"
      },
      "execution_count": 71,
      "outputs": []
    },
    {
      "cell_type": "code",
      "source": [
        "for i in data1:\n",
        "    print(i)"
      ],
      "metadata": {
        "colab": {
          "base_uri": "https://localhost:8080/"
        },
        "id": "ODxzOUB0DspY",
        "outputId": "af18ad7e-a9a5-4dcb-fad4-7a048a3cda0b"
      },
      "execution_count": 72,
      "outputs": [
        {
          "output_type": "stream",
          "name": "stdout",
          "text": [
            "LMU offers state-of-the-art research infrastructure, an outstanding international network, attractive career opportunities and a broad spectrum of continuing personal development programs. In doing so, LMU supports its members in nurturing their talents and helping to shape their working environment.\n",
            "\n",
            "this is my second line that i am trying to writethis is my first write operation in the file Ishan \n"
          ]
        }
      ]
    },
    {
      "cell_type": "code",
      "source": [
        "import os"
      ],
      "metadata": {
        "id": "bP5FjuaODw18"
      },
      "execution_count": 73,
      "outputs": []
    },
    {
      "cell_type": "code",
      "source": [
        "os.path.getsize(\"test.txt\")"
      ],
      "metadata": {
        "colab": {
          "base_uri": "https://localhost:8080/"
        },
        "id": "nS8Le9_jEF1M",
        "outputId": "550e5f17-4e7f-4288-891d-2959108c0a0e"
      },
      "execution_count": 74,
      "outputs": [
        {
          "output_type": "execute_result",
          "data": {
            "text/plain": [
              "401"
            ]
          },
          "metadata": {},
          "execution_count": 74
        }
      ]
    },
    {
      "cell_type": "code",
      "source": [
        "import shutil"
      ],
      "metadata": {
        "id": "-DzjZz-dEKWY"
      },
      "execution_count": 75,
      "outputs": []
    },
    {
      "cell_type": "code",
      "source": [
        "shutil.copy(\"test.txt\", \"new_test.txt\")"
      ],
      "metadata": {
        "colab": {
          "base_uri": "https://localhost:8080/",
          "height": 36
        },
        "id": "asSoEjABESag",
        "outputId": "3adac317-a185-405a-f331-507909451689"
      },
      "execution_count": 76,
      "outputs": [
        {
          "output_type": "execute_result",
          "data": {
            "text/plain": [
              "'new_test.txt'"
            ],
            "application/vnd.google.colaboratory.intrinsic+json": {
              "type": "string"
            }
          },
          "metadata": {},
          "execution_count": 76
        }
      ]
    },
    {
      "cell_type": "code",
      "source": [
        "os.remove(\"test.txt\")"
      ],
      "metadata": {
        "id": "gGF_-JZyEZtM"
      },
      "execution_count": 77,
      "outputs": []
    },
    {
      "cell_type": "code",
      "source": [
        "#os.remove(\"new_test_txt\")"
      ],
      "metadata": {
        "id": "Juk0ijrzGAni"
      },
      "execution_count": 78,
      "outputs": []
    },
    {
      "cell_type": "code",
      "source": [
        "#with open(\"new_test.txt\", \"r\") as f :\n",
        "#    print(f.read())"
      ],
      "metadata": {
        "id": "AXwqLJUyFG_7"
      },
      "execution_count": 79,
      "outputs": []
    },
    {
      "cell_type": "code",
      "source": [
        "#os.rename(\"new_test.txt\", \"test1.txt\")"
      ],
      "metadata": {
        "id": "m-ptGbnFFjFU"
      },
      "execution_count": 80,
      "outputs": []
    },
    {
      "cell_type": "markdown",
      "source": [
        "Reading and writing files"
      ],
      "metadata": {
        "id": "xfnbrS0xHAQ-"
      }
    },
    {
      "cell_type": "code",
      "source": [
        "data = {\n",
        "    \"name\" : \"sudh\",\n",
        "    \"mail_id\" : \"sudh@gmail.com\",\n",
        "    \"phone_number\" : 9087689,\n",
        "    \"subject\" :[\"data science\", \"big data\", \"data analytics\"]\n",
        "}"
      ],
      "metadata": {
        "id": "KFVZ2q0xGq9y"
      },
      "execution_count": 81,
      "outputs": []
    },
    {
      "cell_type": "code",
      "source": [
        "import json"
      ],
      "metadata": {
        "id": "Mf9sfEoFHhfg"
      },
      "execution_count": 82,
      "outputs": []
    },
    {
      "cell_type": "code",
      "source": [
        "with open(\"test1.json\", \"w\") as f :\n",
        "    json.dump(data,f)"
      ],
      "metadata": {
        "id": "MmCRtQEkHlCz"
      },
      "execution_count": 83,
      "outputs": []
    },
    {
      "cell_type": "code",
      "source": [
        "with open(\"test1.json\", 'r') as f :\n",
        "    data1 = json.load(f)"
      ],
      "metadata": {
        "id": "y0sPtd28HylO"
      },
      "execution_count": 84,
      "outputs": []
    },
    {
      "cell_type": "code",
      "source": [
        "data1"
      ],
      "metadata": {
        "colab": {
          "base_uri": "https://localhost:8080/"
        },
        "id": "8CMOhL2TI-ko",
        "outputId": "71422df9-629b-41f3-f2f7-874371564179"
      },
      "execution_count": 85,
      "outputs": [
        {
          "output_type": "execute_result",
          "data": {
            "text/plain": [
              "{'name': 'sudh',\n",
              " 'mail_id': 'sudh@gmail.com',\n",
              " 'phone_number': 9087689,\n",
              " 'subject': ['data science', 'big data', 'data analytics']}"
            ]
          },
          "metadata": {},
          "execution_count": 85
        }
      ]
    },
    {
      "cell_type": "code",
      "source": [
        "data1['subject'][1]"
      ],
      "metadata": {
        "colab": {
          "base_uri": "https://localhost:8080/",
          "height": 36
        },
        "id": "FIKZHG48JBNZ",
        "outputId": "272a8ed4-9c0c-4113-ce69-65bd3fdbc143"
      },
      "execution_count": 86,
      "outputs": [
        {
          "output_type": "execute_result",
          "data": {
            "text/plain": [
              "'big data'"
            ],
            "application/vnd.google.colaboratory.intrinsic+json": {
              "type": "string"
            }
          },
          "metadata": {},
          "execution_count": 86
        }
      ]
    },
    {
      "cell_type": "code",
      "source": [
        "data = [[\"name\", \"email_id\", \"number\"],\n",
        "        [\"sudh\", \"sudh@gmail.com\", 98764356],\n",
        "         [\"krish\", \"krish@gmail.com\", 987632146]\n",
        "        ]"
      ],
      "metadata": {
        "id": "o4YJZuq7JbQa"
      },
      "execution_count": 87,
      "outputs": []
    },
    {
      "cell_type": "code",
      "source": [
        "import csv"
      ],
      "metadata": {
        "id": "0W5YB6HHJs72"
      },
      "execution_count": 88,
      "outputs": []
    },
    {
      "cell_type": "code",
      "source": [
        "with open(\"test3.csv\", 'w') as f :\n",
        "   w = csv.writer(f)\n",
        "   for i in data:\n",
        "       w.writerow(i)"
      ],
      "metadata": {
        "id": "EQOam5GmKUNm"
      },
      "execution_count": 89,
      "outputs": []
    },
    {
      "cell_type": "code",
      "source": [
        "with open(\"test3.csv\", 'r') as f :\n",
        "    read = csv.reader(f)\n",
        "    for i in read:\n",
        "        print(i)"
      ],
      "metadata": {
        "colab": {
          "base_uri": "https://localhost:8080/"
        },
        "id": "NmmZsNRgKjAQ",
        "outputId": "22d9a6a6-53b4-4f68-f03b-1124d0bce7d2"
      },
      "execution_count": 90,
      "outputs": [
        {
          "output_type": "stream",
          "name": "stdout",
          "text": [
            "['name', 'email_id', 'number']\n",
            "['sudh', 'sudh@gmail.com', '98764356']\n",
            "['krish', 'krish@gmail.com', '987632146']\n"
          ]
        }
      ]
    },
    {
      "cell_type": "code",
      "source": [
        "with open(\"test4.bin\", 'wb') as f :\n",
        "    f.write(b\"\\x01\\x02\\x03\")"
      ],
      "metadata": {
        "id": "FYZHd4CyL5c8"
      },
      "execution_count": 91,
      "outputs": []
    },
    {
      "cell_type": "code",
      "source": [
        "with open(\"test4.bin\", \"rb\") as f :\n",
        "    print(f.read())"
      ],
      "metadata": {
        "colab": {
          "base_uri": "https://localhost:8080/"
        },
        "id": "1HiHkc36NDpa",
        "outputId": "a36e53fd-973a-4f1c-b8fc-b6c1eb1caf94"
      },
      "execution_count": 92,
      "outputs": [
        {
          "output_type": "stream",
          "name": "stdout",
          "text": [
            "b'\\x01\\x02\\x03'\n"
          ]
        }
      ]
    },
    {
      "cell_type": "markdown",
      "source": [
        "Buffered"
      ],
      "metadata": {
        "id": "l46sgnhzOD4N"
      }
    },
    {
      "cell_type": "code",
      "source": [
        "import io"
      ],
      "metadata": {
        "id": "DJOYjNypNur4"
      },
      "execution_count": 93,
      "outputs": []
    },
    {
      "cell_type": "code",
      "source": [
        "with open(\"test.txt\", \"wb\") as f :\n",
        "    file = io.BufferedWriter(f)\n",
        "    file.write(b\"LMU offers state-of-the-art research infrastructure, an outstanding international network, attractive career opportunities and a broad spectrum of continuing personal development programs. In doing so, LMU supports its members in nurturing their talents and helping to shape their working environment.\\n\")\n",
        "    file.write(b\"this is my second line that i am trying to write\")\n",
        "    file.flush()"
      ],
      "metadata": {
        "id": "fN6oziEWOOu_"
      },
      "execution_count": 94,
      "outputs": []
    },
    {
      "cell_type": "code",
      "source": [
        "with open(\"test.txt\", \"rb\") as f :\n",
        "    file = io.BufferedReader(f)\n",
        "    data = file.read()\n",
        "    print(data)"
      ],
      "metadata": {
        "colab": {
          "base_uri": "https://localhost:8080/"
        },
        "id": "4np_3f7nO3On",
        "outputId": "847c7ed6-4ab5-4ee4-aa14-f3444b79a072"
      },
      "execution_count": 95,
      "outputs": [
        {
          "output_type": "stream",
          "name": "stdout",
          "text": [
            "b'LMU offers state-of-the-art research infrastructure, an outstanding international network, attractive career opportunities and a broad spectrum of continuing personal development programs. In doing so, LMU supports its members in nurturing their talents and helping to shape their working environment.\\nthis is my second line that i am trying to write'\n"
          ]
        }
      ]
    },
    {
      "cell_type": "code",
      "source": [
        "with open(\"test.txt\", \"rb\") as f :\n",
        "    file = io.BufferedReader(f)\n",
        "    data = file.read(10)\n",
        "    print(data)"
      ],
      "metadata": {
        "colab": {
          "base_uri": "https://localhost:8080/"
        },
        "id": "lHmSdO1xRNja",
        "outputId": "283b2cf6-8d81-435e-c31b-45e4e787a20e"
      },
      "execution_count": 96,
      "outputs": [
        {
          "output_type": "stream",
          "name": "stdout",
          "text": [
            "b'LMU offers'\n"
          ]
        }
      ]
    },
    {
      "cell_type": "markdown",
      "source": [
        "Logging & Debugging"
      ],
      "metadata": {
        "id": "XI18cXVy4COG"
      }
    },
    {
      "cell_type": "code",
      "source": [
        "print(\"this is my print statement\")"
      ],
      "metadata": {
        "colab": {
          "base_uri": "https://localhost:8080/"
        },
        "id": "zm3MIAEu3km_",
        "outputId": "02afec7c-8b9c-4afd-d698-b109b0e9e064"
      },
      "execution_count": 97,
      "outputs": [
        {
          "output_type": "stream",
          "name": "stdout",
          "text": [
            "this is my print statement\n"
          ]
        }
      ]
    },
    {
      "cell_type": "code",
      "source": [
        "import logging"
      ],
      "metadata": {
        "id": "6hT4g5Ch4JY_"
      },
      "execution_count": 98,
      "outputs": []
    },
    {
      "cell_type": "code",
      "source": [
        "logging.basicConfig(filename = \"test.log\", level = logging.INFO)"
      ],
      "metadata": {
        "id": "mgQ5FQuN4i96"
      },
      "execution_count": 99,
      "outputs": []
    },
    {
      "cell_type": "code",
      "source": [
        "logging.info(\"this is my line of execution \")"
      ],
      "metadata": {
        "id": "bFWfpJ_b45hV"
      },
      "execution_count": 100,
      "outputs": []
    },
    {
      "cell_type": "code",
      "source": [
        "logging.error(\"this is my error\")"
      ],
      "metadata": {
        "id": "fwtkx0Xl5vdj",
        "colab": {
          "base_uri": "https://localhost:8080/"
        },
        "outputId": "b9f3dca5-2c8d-41f8-98d3-e29d976a3653"
      },
      "execution_count": 101,
      "outputs": [
        {
          "output_type": "stream",
          "name": "stderr",
          "text": [
            "ERROR:root:this is my error\n"
          ]
        }
      ]
    },
    {
      "cell_type": "code",
      "source": [
        "logging.critical(\"this is my critical\")"
      ],
      "metadata": {
        "colab": {
          "base_uri": "https://localhost:8080/"
        },
        "id": "62zkFG_77Msb",
        "outputId": "b09e6128-1c66-4f94-bb3a-e32ef17dbb5c"
      },
      "execution_count": 102,
      "outputs": [
        {
          "output_type": "stream",
          "name": "stderr",
          "text": [
            "CRITICAL:root:this is my critical\n"
          ]
        }
      ]
    },
    {
      "cell_type": "code",
      "source": [
        "logging.warning(\"this is my warning\")"
      ],
      "metadata": {
        "colab": {
          "base_uri": "https://localhost:8080/"
        },
        "id": "OpUUB5beAlEu",
        "outputId": "a35d3231-5f1b-4c1b-a9b3-bc8f62ef819b"
      },
      "execution_count": 105,
      "outputs": [
        {
          "output_type": "stream",
          "name": "stderr",
          "text": [
            "WARNING:root:this is my warning\n"
          ]
        }
      ]
    },
    {
      "cell_type": "code",
      "source": [
        "logging.debug(\"this is my info related to debug\")"
      ],
      "metadata": {
        "id": "2xFbV4hcAsQF"
      },
      "execution_count": 106,
      "outputs": []
    },
    {
      "cell_type": "code",
      "source": [
        "#depricated logging.noset(\"this is my noset related log\")"
      ],
      "metadata": {
        "id": "i2MsDqrOFHsR"
      },
      "execution_count": 108,
      "outputs": []
    },
    {
      "cell_type": "code",
      "source": [
        "logging.shutdown()"
      ],
      "metadata": {
        "id": "dok0RAX6FqaT"
      },
      "execution_count": 109,
      "outputs": []
    },
    {
      "cell_type": "markdown",
      "source": [
        "1. NOSET\n",
        "2. DEBUG\n",
        "3. INFO\n",
        "4. WARNING\n",
        "5. ERROR\n",
        "6. CRITICAL"
      ],
      "metadata": {
        "id": "xI4O4vgTFwgP"
      }
    },
    {
      "cell_type": "code",
      "source": [
        "logging.basicConfig(filename = \"test1.log\", level = logging.DEBUG, format = '%(asctime)s %(message)s')"
      ],
      "metadata": {
        "id": "QM9IEBdv7pSN"
      },
      "execution_count": 110,
      "outputs": []
    },
    {
      "cell_type": "code",
      "source": [
        "logging.info(\"this is my info log\")"
      ],
      "metadata": {
        "id": "UgWDLs9CGLs6"
      },
      "execution_count": 111,
      "outputs": []
    },
    {
      "cell_type": "code",
      "source": [
        "logging.debug(\"this is my debug log\")"
      ],
      "metadata": {
        "id": "Qsy0jgOQGdaz"
      },
      "execution_count": 112,
      "outputs": []
    },
    {
      "cell_type": "code",
      "source": [
        "logging.warning(\"this is my warning\")"
      ],
      "metadata": {
        "colab": {
          "base_uri": "https://localhost:8080/"
        },
        "id": "BttE0bsfGhsg",
        "outputId": "63206588-f68b-4497-d653-106e8f6ff5d4"
      },
      "execution_count": 113,
      "outputs": [
        {
          "output_type": "stream",
          "name": "stderr",
          "text": [
            "WARNING:root:this is my warning\n"
          ]
        }
      ]
    },
    {
      "cell_type": "code",
      "source": [
        "logging.shutdown()"
      ],
      "metadata": {
        "id": "1P-NKay4G060"
      },
      "execution_count": 114,
      "outputs": []
    },
    {
      "cell_type": "code",
      "source": [
        "logging.basicConfig(filename = \"test3.log\", level = logging.DEBUG, format = '%(asctime)s %(name)s %(levelname)s %(message)')"
      ],
      "metadata": {
        "id": "BZ2oxZ5HHHDL"
      },
      "execution_count": 115,
      "outputs": []
    },
    {
      "cell_type": "code",
      "source": [
        "logging.info(\"this is my info log\")"
      ],
      "metadata": {
        "id": "ejmykqrFHoS0"
      },
      "execution_count": 116,
      "outputs": []
    },
    {
      "cell_type": "code",
      "source": [
        "l = [1,2,3,4,[4,5,6], \"sudh\", \"kumar\"]"
      ],
      "metadata": {
        "id": "nTd2XoDNII1O"
      },
      "execution_count": 117,
      "outputs": []
    },
    {
      "cell_type": "code",
      "source": [
        "l1_int = []\n",
        "l2_str = []\n",
        "for i in l :\n",
        "    logging.info(\"this is the start of my first for loop {}\".format(l))\n",
        "    logging.info(\"this is the value of i am logging {}\".format(i))\n",
        "    if type(i) == list:\n",
        "        for j in i :\n",
        "            logging.info(\"logging my j {j} and i is {i}\".format(i = i,j = j))\n",
        "            if type(j) == int :\n",
        "                l1_int.append(j)\n",
        "    elif type(i) == int :\n",
        "        l1_int.append(i)\n",
        "\n",
        "    else :\n",
        "        if type(i) == str :\n",
        "           l2_str.append(i)\n",
        "logging.info(\"this is my final result with all int {l1}, with all str{l2}\".format(l1=l1_int, l2=l2_str))"
      ],
      "metadata": {
        "id": "OA1GBVL9IVR0"
      },
      "execution_count": 126,
      "outputs": []
    },
    {
      "cell_type": "code",
      "source": [
        "l1_int"
      ],
      "metadata": {
        "colab": {
          "base_uri": "https://localhost:8080/"
        },
        "id": "0ObqUx4cJkP5",
        "outputId": "7af36768-4b68-4686-9653-2385f654d8df"
      },
      "execution_count": 120,
      "outputs": [
        {
          "output_type": "execute_result",
          "data": {
            "text/plain": [
              "[1, 2, 3, 4, 4, 5, 6]"
            ]
          },
          "metadata": {},
          "execution_count": 120
        }
      ]
    },
    {
      "cell_type": "code",
      "source": [
        "l2_str"
      ],
      "metadata": {
        "colab": {
          "base_uri": "https://localhost:8080/"
        },
        "id": "oQkqvWPOKKhQ",
        "outputId": "8bafd4cf-43c6-4510-c3f2-c2bcbb2addc7"
      },
      "execution_count": 121,
      "outputs": [
        {
          "output_type": "execute_result",
          "data": {
            "text/plain": [
              "['sudh', 'kumar']"
            ]
          },
          "metadata": {},
          "execution_count": 121
        }
      ]
    },
    {
      "cell_type": "markdown",
      "source": [
        "Exceptional Handling"
      ],
      "metadata": {
        "id": "Je1UB7dKOgk2"
      }
    },
    {
      "cell_type": "code",
      "source": [
        "a = 10"
      ],
      "metadata": {
        "id": "lEdyY_HlKNHk"
      },
      "execution_count": 130,
      "outputs": []
    },
    {
      "cell_type": "code",
      "source": [
        "#a/0"
      ],
      "metadata": {
        "id": "R7Gxp-0fp58-"
      },
      "execution_count": 131,
      "outputs": []
    },
    {
      "cell_type": "code",
      "source": [
        "#file not found error\n",
        "#f = open(\"test.txt5\", 'r')\n",
        "#print(\"this is my print\") (stop)"
      ],
      "metadata": {
        "id": "G4cqwoB1p6ZX"
      },
      "execution_count": 136,
      "outputs": []
    },
    {
      "cell_type": "code",
      "source": [
        "try:\n",
        "   f = open(\"test5.txt\", 'r')\n",
        "except Exception as e :\n",
        "   print(\"there is some issue with my code\")\n",
        "a = 10\n",
        "a"
      ],
      "metadata": {
        "colab": {
          "base_uri": "https://localhost:8080/"
        },
        "id": "pZa7lUkPqC-P",
        "outputId": "452674b5-1f3d-4a10-a65b-61020702e45a"
      },
      "execution_count": 135,
      "outputs": [
        {
          "output_type": "stream",
          "name": "stdout",
          "text": [
            "there is some issue with my code\n"
          ]
        },
        {
          "output_type": "execute_result",
          "data": {
            "text/plain": [
              "10"
            ]
          },
          "metadata": {},
          "execution_count": 135
        }
      ]
    },
    {
      "cell_type": "code",
      "source": [
        "try:\n",
        "   f = open(\"test.txt\", 'r')\n",
        "except Exception as e :\n",
        "   print(\"there is some issue with my code\")"
      ],
      "metadata": {
        "id": "TDVY5r8NrIJA"
      },
      "execution_count": 134,
      "outputs": []
    },
    {
      "cell_type": "code",
      "source": [
        "try:\n",
        "    f = open(\"test.txt5\", 'w')\n",
        "    f.write(\"this is my msg\")\n",
        "\n",
        "except Exception as e :\n",
        "    print(\"there is some issue with my code \", e)\n",
        "else :\n",
        "        f.close()\n",
        "        print(\"this block will execute once try will execute itself without an exception\")\n"
      ],
      "metadata": {
        "colab": {
          "base_uri": "https://localhost:8080/"
        },
        "id": "1AScznjarNsQ",
        "outputId": "22af8bea-4b05-4e77-92ea-e4c53b71eaca"
      },
      "execution_count": 140,
      "outputs": [
        {
          "output_type": "stream",
          "name": "stdout",
          "text": [
            "this block will execute once try will execute itself without an exception\n"
          ]
        }
      ]
    },
    {
      "cell_type": "code",
      "source": [
        "try:\n",
        "    f = open(\"test2.txt\", 'r')\n",
        "    f.write(\"this is my msg\")\n",
        "\n",
        "except Exception as e :\n",
        "    print(\"there is some issue with my code \", e)\n",
        "else :\n",
        "        f.close()\n",
        "        print(\"this block will execute once try will execute itself without an exception\")"
      ],
      "metadata": {
        "colab": {
          "base_uri": "https://localhost:8080/"
        },
        "id": "EgGO8qjzsFtv",
        "outputId": "9637521e-343f-49cf-e0a3-e035444de694"
      },
      "execution_count": 143,
      "outputs": [
        {
          "output_type": "stream",
          "name": "stdout",
          "text": [
            "there is some issue with my code  [Errno 2] No such file or directory: 'test2.txt'\n"
          ]
        }
      ]
    },
    {
      "cell_type": "code",
      "source": [
        "try:\n",
        "    f = open(\"test2.txt\", 'r')\n",
        "    f.write(\"this is my msg\")\n",
        "finally :\n",
        "  print(\"this will always execute\")"
      ],
      "metadata": {
        "colab": {
          "base_uri": "https://localhost:8080/",
          "height": 262
        },
        "id": "KH78YIn1teND",
        "outputId": "94ea7dc2-7286-4141-dea2-3bab9c602b17"
      },
      "execution_count": 144,
      "outputs": [
        {
          "output_type": "stream",
          "name": "stdout",
          "text": [
            "this will always execute\n"
          ]
        },
        {
          "output_type": "error",
          "ename": "FileNotFoundError",
          "evalue": "ignored",
          "traceback": [
            "\u001b[0;31m---------------------------------------------------------------------------\u001b[0m",
            "\u001b[0;31mFileNotFoundError\u001b[0m                         Traceback (most recent call last)",
            "\u001b[0;32m<ipython-input-144-c65ac4ac3c0d>\u001b[0m in \u001b[0;36m<cell line: 1>\u001b[0;34m()\u001b[0m\n\u001b[1;32m      1\u001b[0m \u001b[0;32mtry\u001b[0m\u001b[0;34m:\u001b[0m\u001b[0;34m\u001b[0m\u001b[0;34m\u001b[0m\u001b[0m\n\u001b[0;32m----> 2\u001b[0;31m     \u001b[0mf\u001b[0m \u001b[0;34m=\u001b[0m \u001b[0mopen\u001b[0m\u001b[0;34m(\u001b[0m\u001b[0;34m\"test2.txt\"\u001b[0m\u001b[0;34m,\u001b[0m \u001b[0;34m'r'\u001b[0m\u001b[0;34m)\u001b[0m\u001b[0;34m\u001b[0m\u001b[0;34m\u001b[0m\u001b[0m\n\u001b[0m\u001b[1;32m      3\u001b[0m     \u001b[0mf\u001b[0m\u001b[0;34m.\u001b[0m\u001b[0mwrite\u001b[0m\u001b[0;34m(\u001b[0m\u001b[0;34m\"this is my msg\"\u001b[0m\u001b[0;34m)\u001b[0m\u001b[0;34m\u001b[0m\u001b[0;34m\u001b[0m\u001b[0m\n\u001b[1;32m      4\u001b[0m \u001b[0;32mfinally\u001b[0m \u001b[0;34m:\u001b[0m\u001b[0;34m\u001b[0m\u001b[0;34m\u001b[0m\u001b[0m\n\u001b[1;32m      5\u001b[0m   \u001b[0mprint\u001b[0m\u001b[0;34m(\u001b[0m\u001b[0;34m\"this will always execute\"\u001b[0m\u001b[0;34m)\u001b[0m\u001b[0;34m\u001b[0m\u001b[0;34m\u001b[0m\u001b[0m\n",
            "\u001b[0;31mFileNotFoundError\u001b[0m: [Errno 2] No such file or directory: 'test2.txt'"
          ]
        }
      ]
    },
    {
      "cell_type": "code",
      "source": [
        "try:\n",
        "    f = open(\"test2.txt\", 'r')\n",
        "    f.write(\"this is my msg\")\n",
        "\n",
        "except Exception as e :\n",
        "    print(\"there is some issue with my code \", e)\n",
        "else :\n",
        "        f.close()\n",
        "        print(\"this block will execute once try will execute itself without an exception\")\n",
        "finally :\n",
        "        print(\"this will always execute\")"
      ],
      "metadata": {
        "colab": {
          "base_uri": "https://localhost:8080/"
        },
        "id": "qbn7evqpuWOY",
        "outputId": "04842c98-a17d-41ae-bee3-8ddb09e69759"
      },
      "execution_count": 145,
      "outputs": [
        {
          "output_type": "stream",
          "name": "stdout",
          "text": [
            "there is some issue with my code  [Errno 2] No such file or directory: 'test2.txt'\n",
            "this will always execute\n"
          ]
        }
      ]
    },
    {
      "cell_type": "code",
      "source": [
        "try:\n",
        "    f = open(\"test1.txt\", 'w')\n",
        "    f.write(\"this is my msg\")\n",
        "\n",
        "except Exception as e :\n",
        "    print(\"there is some issue with my code \", e)\n",
        "else :\n",
        "        f.close()\n",
        "        print(\"this block will execute once try will execute itself without an exception\")\n",
        "finally :\n",
        "        print(\"this will always execute\")"
      ],
      "metadata": {
        "colab": {
          "base_uri": "https://localhost:8080/"
        },
        "id": "GyCACeIVu5NO",
        "outputId": "e56fe319-02bf-4a94-ea85-c8df74d4ce29"
      },
      "execution_count": 147,
      "outputs": [
        {
          "output_type": "stream",
          "name": "stdout",
          "text": [
            "this block will execute once try will execute itself without an exception\n",
            "this will always execute\n"
          ]
        }
      ]
    },
    {
      "cell_type": "code",
      "source": [],
      "metadata": {
        "id": "Z9vvYAaLvHj2"
      },
      "execution_count": null,
      "outputs": []
    }
  ]
}