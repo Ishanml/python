{
  "nbformat": 4,
  "nbformat_minor": 0,
  "metadata": {
    "colab": {
      "provenance": [],
      "authorship_tag": "ABX9TyPWVEkIN82CjOCkWce821TM",
      "include_colab_link": true
    },
    "kernelspec": {
      "name": "python3",
      "display_name": "Python 3"
    },
    "language_info": {
      "name": "python"
    }
  },
  "cells": [
    {
      "cell_type": "markdown",
      "metadata": {
        "id": "view-in-github",
        "colab_type": "text"
      },
      "source": [
        "<a href=\"https://colab.research.google.com/github/Ishanml/python/blob/main/Week4oops.ipynb\" target=\"_parent\"><img src=\"https://colab.research.google.com/assets/colab-badge.svg\" alt=\"Open In Colab\"/></a>"
      ]
    },
    {
      "cell_type": "markdown",
      "source": [
        "## \"Oops\" stands for Object-Oriented Programming System"
      ],
      "metadata": {
        "id": "O2soG9Y6S-b2"
      }
    },
    {
      "cell_type": "code",
      "execution_count": 1,
      "metadata": {
        "id": "qTV1sU4nSo2x"
      },
      "outputs": [],
      "source": [
        "a = 1"
      ]
    },
    {
      "cell_type": "code",
      "source": [
        "print(type(a))"
      ],
      "metadata": {
        "colab": {
          "base_uri": "https://localhost:8080/"
        },
        "id": "FjYqQep8TM6o",
        "outputId": "1fe5b32d-af20-44c9-c797-f6472c7751d2"
      },
      "execution_count": 2,
      "outputs": [
        {
          "output_type": "stream",
          "name": "stdout",
          "text": [
            "<class 'int'>\n"
          ]
        }
      ]
    },
    {
      "cell_type": "code",
      "source": [
        "print(type(\"pwskills\"))"
      ],
      "metadata": {
        "colab": {
          "base_uri": "https://localhost:8080/"
        },
        "id": "649Z6KOyTO3t",
        "outputId": "4a9de4cc-4250-47c1-dee7-ca0e0beebf9d"
      },
      "execution_count": 3,
      "outputs": [
        {
          "output_type": "stream",
          "name": "stdout",
          "text": [
            "<class 'str'>\n"
          ]
        }
      ]
    },
    {
      "cell_type": "code",
      "source": [
        "class test:\n",
        "    pass"
      ],
      "metadata": {
        "id": "j8sQ_rY8TVNQ"
      },
      "execution_count": 4,
      "outputs": []
    },
    {
      "cell_type": "code",
      "source": [
        "a = test()"
      ],
      "metadata": {
        "id": "uqCpP2-LVJgQ"
      },
      "execution_count": 5,
      "outputs": []
    },
    {
      "cell_type": "code",
      "source": [
        "print(type(a))"
      ],
      "metadata": {
        "colab": {
          "base_uri": "https://localhost:8080/"
        },
        "id": "-K6LgPKHVVfy",
        "outputId": "7025c56c-7769-4dda-9e00-8568b148d83f"
      },
      "execution_count": 6,
      "outputs": [
        {
          "output_type": "stream",
          "name": "stdout",
          "text": [
            "<class '__main__.test'>\n"
          ]
        }
      ]
    },
    {
      "cell_type": "code",
      "source": [
        "class pwskills:\n",
        "\n",
        "  def welcome_msg(self):\n",
        "      print(\"welcome to pwskills\")"
      ],
      "metadata": {
        "id": "xzFOk0otVX-2"
      },
      "execution_count": 7,
      "outputs": []
    },
    {
      "cell_type": "code",
      "source": [
        "rohan = pwskills()"
      ],
      "metadata": {
        "id": "yLb_jYomV4ID"
      },
      "execution_count": 8,
      "outputs": []
    },
    {
      "cell_type": "code",
      "source": [
        "rohan.welcome_msg()"
      ],
      "metadata": {
        "colab": {
          "base_uri": "https://localhost:8080/"
        },
        "id": "KWb8M5VRWB5C",
        "outputId": "ca27f688-e030-452a-d742-b52c87e33ef0"
      },
      "execution_count": 9,
      "outputs": [
        {
          "output_type": "stream",
          "name": "stdout",
          "text": [
            "welcome to pwskills\n"
          ]
        }
      ]
    },
    {
      "cell_type": "code",
      "source": [
        "sohan = pwskills()"
      ],
      "metadata": {
        "id": "4w8XITrMWRYn"
      },
      "execution_count": 10,
      "outputs": []
    },
    {
      "cell_type": "code",
      "source": [
        "sohan.welcome_msg()"
      ],
      "metadata": {
        "colab": {
          "base_uri": "https://localhost:8080/"
        },
        "id": "cMv8WBSZWpZZ",
        "outputId": "457fe3be-3ce9-4548-cc9f-08d61f1eacf9"
      },
      "execution_count": 11,
      "outputs": [
        {
          "output_type": "stream",
          "name": "stdout",
          "text": [
            "welcome to pwskills\n"
          ]
        }
      ]
    },
    {
      "cell_type": "code",
      "source": [
        "a = 1"
      ],
      "metadata": {
        "id": "gC9YrtI6WumB"
      },
      "execution_count": 12,
      "outputs": []
    },
    {
      "cell_type": "code",
      "source": [
        "b = 2"
      ],
      "metadata": {
        "id": "ba1Lhs3hZIVW"
      },
      "execution_count": 13,
      "outputs": []
    },
    {
      "cell_type": "code",
      "source": [
        "a"
      ],
      "metadata": {
        "colab": {
          "base_uri": "https://localhost:8080/"
        },
        "id": "coc0ctnrZJYm",
        "outputId": "fb285964-aac5-48d2-b505-e63c2a646685"
      },
      "execution_count": 14,
      "outputs": [
        {
          "output_type": "execute_result",
          "data": {
            "text/plain": [
              "1"
            ]
          },
          "metadata": {},
          "execution_count": 14
        }
      ]
    },
    {
      "cell_type": "code",
      "source": [
        "b"
      ],
      "metadata": {
        "colab": {
          "base_uri": "https://localhost:8080/"
        },
        "id": "9h7iKP5UZKCT",
        "outputId": "25bfa2c8-fb80-4347-8b98-8613ff8774cd"
      },
      "execution_count": 15,
      "outputs": [
        {
          "output_type": "execute_result",
          "data": {
            "text/plain": [
              "2"
            ]
          },
          "metadata": {},
          "execution_count": 15
        }
      ]
    },
    {
      "cell_type": "code",
      "source": [
        "class pwskills1:\n",
        "\n",
        "    def __init__(self ,phone_number , email_id, student_id):\n",
        "\n",
        "       self.phone_number = phone_number\n",
        "       self.email_id = email_id\n",
        "       self.student_id = student_id\n",
        "\n",
        "    def return_student_details(self):\n",
        "        return self.phone_number, self.email_id, self.student_id"
      ],
      "metadata": {
        "id": "sBeAuuzFZMcS"
      },
      "execution_count": 16,
      "outputs": []
    },
    {
      "cell_type": "code",
      "source": [
        "sohan = pwskills1(999932765, \"sohan@gmail.com\", 102)"
      ],
      "metadata": {
        "id": "4dp_fAgP5oRz"
      },
      "execution_count": 17,
      "outputs": []
    },
    {
      "cell_type": "code",
      "source": [
        "sohan.phone_number"
      ],
      "metadata": {
        "colab": {
          "base_uri": "https://localhost:8080/"
        },
        "id": "Pgny5tQv53Pp",
        "outputId": "43fc0228-a8bd-4792-c08c-83cc9cd4c43f"
      },
      "execution_count": 18,
      "outputs": [
        {
          "output_type": "execute_result",
          "data": {
            "text/plain": [
              "999932765"
            ]
          },
          "metadata": {},
          "execution_count": 18
        }
      ]
    },
    {
      "cell_type": "code",
      "source": [
        "sohan.return_student_details()"
      ],
      "metadata": {
        "colab": {
          "base_uri": "https://localhost:8080/"
        },
        "id": "JAX5V6mS566T",
        "outputId": "b8a95034-1a6c-42bb-dd23-27ad96f6bfdd"
      },
      "execution_count": 19,
      "outputs": [
        {
          "output_type": "execute_result",
          "data": {
            "text/plain": [
              "(999932765, 'sohan@gmail.com', 102)"
            ]
          },
          "metadata": {},
          "execution_count": 19
        }
      ]
    },
    {
      "cell_type": "code",
      "source": [
        "rohan = pwskills1(9999999999, \"rohan@gmail.com\", 101)"
      ],
      "metadata": {
        "id": "jJG3Ip_paZxr"
      },
      "execution_count": 20,
      "outputs": []
    },
    {
      "cell_type": "code",
      "source": [
        "rohan.phone_number"
      ],
      "metadata": {
        "colab": {
          "base_uri": "https://localhost:8080/"
        },
        "id": "lSq9X6Uj2SYj",
        "outputId": "d7b859ac-8773-4dfd-9820-41a6e2f01c1f"
      },
      "execution_count": 21,
      "outputs": [
        {
          "output_type": "execute_result",
          "data": {
            "text/plain": [
              "9999999999"
            ]
          },
          "metadata": {},
          "execution_count": 21
        }
      ]
    },
    {
      "cell_type": "code",
      "source": [
        "rohan.email_id"
      ],
      "metadata": {
        "colab": {
          "base_uri": "https://localhost:8080/",
          "height": 36
        },
        "id": "HmLGgmis5RC_",
        "outputId": "05e8964d-70f4-45fc-d879-6b9ec04c73a1"
      },
      "execution_count": 22,
      "outputs": [
        {
          "output_type": "execute_result",
          "data": {
            "text/plain": [
              "'rohan@gmail.com'"
            ],
            "application/vnd.google.colaboratory.intrinsic+json": {
              "type": "string"
            }
          },
          "metadata": {},
          "execution_count": 22
        }
      ]
    },
    {
      "cell_type": "code",
      "source": [
        "rohan.student_id"
      ],
      "metadata": {
        "colab": {
          "base_uri": "https://localhost:8080/"
        },
        "id": "BCS00lKa5T5D",
        "outputId": "55aa13e6-32d2-49ae-b5a4-5acd084d3512"
      },
      "execution_count": 23,
      "outputs": [
        {
          "output_type": "execute_result",
          "data": {
            "text/plain": [
              "101"
            ]
          },
          "metadata": {},
          "execution_count": 23
        }
      ]
    },
    {
      "cell_type": "code",
      "source": [
        "rohan.return_student_details()"
      ],
      "metadata": {
        "colab": {
          "base_uri": "https://localhost:8080/"
        },
        "id": "aocu6q885WrQ",
        "outputId": "30efbe95-f5e1-4629-9a25-ee151268e33d"
      },
      "execution_count": 24,
      "outputs": [
        {
          "output_type": "execute_result",
          "data": {
            "text/plain": [
              "(9999999999, 'rohan@gmail.com', 101)"
            ]
          },
          "metadata": {},
          "execution_count": 24
        }
      ]
    },
    {
      "cell_type": "code",
      "source": [
        "class pwskills2:\n",
        "\n",
        "    def __init__(sudh ,phone_number , email_id, student_id):\n",
        "\n",
        "       sudh.phone_number = phone_number\n",
        "       sudh.email_id = email_id\n",
        "       sudh.student_id = student_id\n",
        "\n",
        "    def return_student_details(sudh):\n",
        "        return sudh.phone_number, sudh.email_id, sudh.student_id"
      ],
      "metadata": {
        "id": "Txz5n4qI5kyX"
      },
      "execution_count": 25,
      "outputs": []
    },
    {
      "cell_type": "code",
      "source": [
        "mohan = pwskills2(34567890, \"mohan@gmail.com\", 234)"
      ],
      "metadata": {
        "id": "Rls_4V016crR"
      },
      "execution_count": 26,
      "outputs": []
    },
    {
      "cell_type": "code",
      "source": [
        "mohan.return_student_details()"
      ],
      "metadata": {
        "colab": {
          "base_uri": "https://localhost:8080/"
        },
        "id": "EP9ZZwI16wL_",
        "outputId": "8d18e776-44fa-4a3c-e87a-2cbd7fe211bf"
      },
      "execution_count": 27,
      "outputs": [
        {
          "output_type": "execute_result",
          "data": {
            "text/plain": [
              "(34567890, 'mohan@gmail.com', 234)"
            ]
          },
          "metadata": {},
          "execution_count": 27
        }
      ]
    },
    {
      "cell_type": "code",
      "source": [
        "mohan.phone_number"
      ],
      "metadata": {
        "colab": {
          "base_uri": "https://localhost:8080/"
        },
        "id": "KgdInDDA6203",
        "outputId": "d5096a33-7eba-479a-c545-0609ebdd7fab"
      },
      "execution_count": 28,
      "outputs": [
        {
          "output_type": "execute_result",
          "data": {
            "text/plain": [
              "34567890"
            ]
          },
          "metadata": {},
          "execution_count": 28
        }
      ]
    },
    {
      "cell_type": "code",
      "source": [
        "class pwskills3:\n",
        "\n",
        "    def __init__(sudh ,phone_number , email_id, student_id):\n",
        "\n",
        "       sudh.phone_number = phone_number\n",
        "       sudh.email_id = email_id\n",
        "       sudh.student_id = student_id\n",
        "\n",
        "    def return_student_details(sudh):\n",
        "        return sudh.phone_number, sudh.email_id, sudh.student_id"
      ],
      "metadata": {
        "id": "jW5lL71G7E6K"
      },
      "execution_count": 29,
      "outputs": []
    },
    {
      "cell_type": "code",
      "source": [
        "rohan = pwskills3(990909, \"rohan@gmail.com\", 123)"
      ],
      "metadata": {
        "id": "XiMiHf_d7O3w"
      },
      "execution_count": 30,
      "outputs": []
    },
    {
      "cell_type": "code",
      "source": [
        "rohan.phone_number"
      ],
      "metadata": {
        "colab": {
          "base_uri": "https://localhost:8080/"
        },
        "id": "bqzYr3jf7WLK",
        "outputId": "6d38b037-5093-4a8c-86ff-e735511373a7"
      },
      "execution_count": 31,
      "outputs": [
        {
          "output_type": "execute_result",
          "data": {
            "text/plain": [
              "990909"
            ]
          },
          "metadata": {},
          "execution_count": 31
        }
      ]
    },
    {
      "cell_type": "code",
      "source": [
        "#rohan.phone_number1"
      ],
      "metadata": {
        "id": "FNU1F_HY7aNt"
      },
      "execution_count": 32,
      "outputs": []
    },
    {
      "cell_type": "code",
      "source": [
        "rohan.return_student_details()"
      ],
      "metadata": {
        "colab": {
          "base_uri": "https://localhost:8080/"
        },
        "id": "DY-5QPfr7fmQ",
        "outputId": "aabaddea-4333-4918-9bf9-891a1a7ad33a"
      },
      "execution_count": 33,
      "outputs": [
        {
          "output_type": "execute_result",
          "data": {
            "text/plain": [
              "(990909, 'rohan@gmail.com', 123)"
            ]
          },
          "metadata": {},
          "execution_count": 33
        }
      ]
    },
    {
      "cell_type": "code",
      "source": [
        "#Polymorphism"
      ],
      "metadata": {
        "id": "dr7puW_G71qG"
      },
      "execution_count": 34,
      "outputs": []
    },
    {
      "cell_type": "code",
      "source": [
        "def test(a,b) :\n",
        "  return a+b"
      ],
      "metadata": {
        "id": "3ZMftuI99I3A"
      },
      "execution_count": 35,
      "outputs": []
    },
    {
      "cell_type": "code",
      "source": [
        "test(4,5)"
      ],
      "metadata": {
        "colab": {
          "base_uri": "https://localhost:8080/"
        },
        "id": "UEBk3BqI9kV7",
        "outputId": "7833c8dd-bede-4ff8-b805-56337adcbe0a"
      },
      "execution_count": 36,
      "outputs": [
        {
          "output_type": "execute_result",
          "data": {
            "text/plain": [
              "9"
            ]
          },
          "metadata": {},
          "execution_count": 36
        }
      ]
    },
    {
      "cell_type": "code",
      "source": [
        "test(\"sudh \", \"kumar\")"
      ],
      "metadata": {
        "colab": {
          "base_uri": "https://localhost:8080/",
          "height": 36
        },
        "id": "1vkduhel9mXY",
        "outputId": "87c2b42a-6d37-4bf5-f86b-aa65dc0fd214"
      },
      "execution_count": 37,
      "outputs": [
        {
          "output_type": "execute_result",
          "data": {
            "text/plain": [
              "'sudh kumar'"
            ],
            "application/vnd.google.colaboratory.intrinsic+json": {
              "type": "string"
            }
          },
          "metadata": {},
          "execution_count": 37
        }
      ]
    },
    {
      "cell_type": "code",
      "source": [
        "test([2,3,4,5,5], [4,5,6,7])"
      ],
      "metadata": {
        "colab": {
          "base_uri": "https://localhost:8080/"
        },
        "id": "jph3k1yf9stc",
        "outputId": "bd356328-7a70-4ccc-f317-fc65eccda6e9"
      },
      "execution_count": 38,
      "outputs": [
        {
          "output_type": "execute_result",
          "data": {
            "text/plain": [
              "[2, 3, 4, 5, 5, 4, 5, 6, 7]"
            ]
          },
          "metadata": {},
          "execution_count": 38
        }
      ]
    },
    {
      "cell_type": "code",
      "source": [
        "class data_science:\n",
        "  def syllabus(self):\n",
        "      print(\"this is my method for data science syllabus \")"
      ],
      "metadata": {
        "id": "xSqkpKeT97GA"
      },
      "execution_count": 39,
      "outputs": []
    },
    {
      "cell_type": "code",
      "source": [
        "class web_dev :\n",
        "  def syllabus(self) :\n",
        "    print(\"this is my method for web dev\")"
      ],
      "metadata": {
        "id": "D5xNdxtp-Qxy"
      },
      "execution_count": 40,
      "outputs": []
    },
    {
      "cell_type": "code",
      "source": [
        "def class_parcer(class_obj) :\n",
        "  for i in class_obj :\n",
        "      i.syllabus()"
      ],
      "metadata": {
        "id": "Tzp7W54v-bqv"
      },
      "execution_count": 41,
      "outputs": []
    },
    {
      "cell_type": "code",
      "source": [
        "obj_data_science = data_science()"
      ],
      "metadata": {
        "id": "-j8PW2Bm-puw"
      },
      "execution_count": 42,
      "outputs": []
    },
    {
      "cell_type": "code",
      "source": [
        "obj_web_dev = web_dev()"
      ],
      "metadata": {
        "id": "Z-nKoFq4-y5c"
      },
      "execution_count": 43,
      "outputs": []
    },
    {
      "cell_type": "code",
      "source": [
        "class_obj = [obj_data_science, obj_web_dev]"
      ],
      "metadata": {
        "id": "Rm-0VahR_A_Z"
      },
      "execution_count": 44,
      "outputs": []
    },
    {
      "cell_type": "code",
      "source": [
        "class_parcer(class_obj)"
      ],
      "metadata": {
        "colab": {
          "base_uri": "https://localhost:8080/"
        },
        "id": "TbvQs5l6_JRi",
        "outputId": "0b2bc7dc-926d-43dd-af28-66d0f35a7378"
      },
      "execution_count": 45,
      "outputs": [
        {
          "output_type": "stream",
          "name": "stdout",
          "text": [
            "this is my method for data science syllabus \n",
            "this is my method for web dev\n"
          ]
        }
      ]
    },
    {
      "cell_type": "code",
      "source": [
        "#encapsulation"
      ],
      "metadata": {
        "id": "sP6JnoAY_P31"
      },
      "execution_count": 46,
      "outputs": []
    },
    {
      "cell_type": "code",
      "source": [
        "class test :\n",
        "    def __init__(self, a, b) :\n",
        "        self.a = a\n",
        "        self.b = b"
      ],
      "metadata": {
        "id": "2_H7-oyLBGsZ"
      },
      "execution_count": 47,
      "outputs": []
    },
    {
      "cell_type": "code",
      "source": [
        "t = test(45,56)"
      ],
      "metadata": {
        "id": "SzxuL4DZBfO4"
      },
      "execution_count": 48,
      "outputs": []
    },
    {
      "cell_type": "code",
      "source": [
        "t.a"
      ],
      "metadata": {
        "colab": {
          "base_uri": "https://localhost:8080/"
        },
        "id": "KDSJCoCaBnLe",
        "outputId": "e599e82d-93bc-4d4c-adae-7791108b5449"
      },
      "execution_count": 49,
      "outputs": [
        {
          "output_type": "execute_result",
          "data": {
            "text/plain": [
              "45"
            ]
          },
          "metadata": {},
          "execution_count": 49
        }
      ]
    },
    {
      "cell_type": "code",
      "source": [
        "t.b"
      ],
      "metadata": {
        "colab": {
          "base_uri": "https://localhost:8080/"
        },
        "id": "0t9qMAVZBn-R",
        "outputId": "ac09e549-c04c-4c9c-9737-2aa9f509a414"
      },
      "execution_count": 50,
      "outputs": [
        {
          "output_type": "execute_result",
          "data": {
            "text/plain": [
              "56"
            ]
          },
          "metadata": {},
          "execution_count": 50
        }
      ]
    },
    {
      "cell_type": "code",
      "source": [
        "t.a = 3243"
      ],
      "metadata": {
        "id": "TMjSQuqUBorE"
      },
      "execution_count": 51,
      "outputs": []
    },
    {
      "cell_type": "code",
      "source": [
        "t.a"
      ],
      "metadata": {
        "colab": {
          "base_uri": "https://localhost:8080/"
        },
        "id": "PU2GedShB0Cc",
        "outputId": "8af830b4-de5a-403c-b991-0987ce31df4f"
      },
      "execution_count": 52,
      "outputs": [
        {
          "output_type": "execute_result",
          "data": {
            "text/plain": [
              "3243"
            ]
          },
          "metadata": {},
          "execution_count": 52
        }
      ]
    },
    {
      "cell_type": "code",
      "source": [
        "class car:\n",
        "\n",
        "    def __init__(self, year, make, mode1, speed ):\n",
        "        self.__year = year\n",
        "        self.__make = make\n",
        "        self.__mode1 = mode1\n",
        "        self.__speed = 0\n",
        "\n",
        "    def set_speed(self, speed) :\n",
        "        self.__speed = 0 if speed < 0 else speed\n",
        "\n",
        "    def get_speed(self) :\n",
        "        return self.__speed"
      ],
      "metadata": {
        "id": "OfV3FDAOB1Fi"
      },
      "execution_count": 53,
      "outputs": []
    },
    {
      "cell_type": "code",
      "source": [
        "obj_car.get_speed()"
      ],
      "metadata": {
        "colab": {
          "base_uri": "https://localhost:8080/"
        },
        "id": "tdtTyacYKCvX",
        "outputId": "37f3158a-5322-4b3e-eade-33d65937b8a1"
      },
      "execution_count": 148,
      "outputs": [
        {
          "output_type": "execute_result",
          "data": {
            "text/plain": [
              "0"
            ]
          },
          "metadata": {},
          "execution_count": 148
        }
      ]
    },
    {
      "cell_type": "code",
      "source": [
        "obj_car.set_speed(-1234)"
      ],
      "metadata": {
        "id": "DHvMs6M0EwM6"
      },
      "execution_count": 149,
      "outputs": []
    },
    {
      "cell_type": "code",
      "source": [
        "obj_car.set_speed(3453)"
      ],
      "metadata": {
        "id": "FlNmrIacGAjo"
      },
      "execution_count": 150,
      "outputs": []
    },
    {
      "cell_type": "code",
      "source": [
        "obj_car = car(2021, \"toyota\", \"innova\", 12)"
      ],
      "metadata": {
        "id": "3iUeGDzkDH9E"
      },
      "execution_count": 55,
      "outputs": []
    },
    {
      "cell_type": "code",
      "source": [
        "obj_car._car__year = 2023"
      ],
      "metadata": {
        "id": "E92iNXeyDQPJ"
      },
      "execution_count": 56,
      "outputs": []
    },
    {
      "cell_type": "code",
      "source": [
        "obj_car._car__year"
      ],
      "metadata": {
        "colab": {
          "base_uri": "https://localhost:8080/"
        },
        "id": "hyoRUPjxD3RO",
        "outputId": "80dcdb4d-031c-4b78-f0f3-5fce10fab09a"
      },
      "execution_count": 57,
      "outputs": [
        {
          "output_type": "execute_result",
          "data": {
            "text/plain": [
              "2023"
            ]
          },
          "metadata": {},
          "execution_count": 57
        }
      ]
    },
    {
      "cell_type": "code",
      "source": [
        "obj_car._car__speed"
      ],
      "metadata": {
        "colab": {
          "base_uri": "https://localhost:8080/"
        },
        "id": "0cd5jThZEXPK",
        "outputId": "33f20664-f63e-47a8-c698-54cffcb348ae"
      },
      "execution_count": 58,
      "outputs": [
        {
          "output_type": "execute_result",
          "data": {
            "text/plain": [
              "0"
            ]
          },
          "metadata": {},
          "execution_count": 58
        }
      ]
    },
    {
      "cell_type": "code",
      "source": [
        "obj_car"
      ],
      "metadata": {
        "id": "lSO1dgdrJqbX",
        "colab": {
          "base_uri": "https://localhost:8080/"
        },
        "outputId": "3bd92caa-c051-447c-d3ca-fc9723cd75e7"
      },
      "execution_count": 59,
      "outputs": [
        {
          "output_type": "execute_result",
          "data": {
            "text/plain": [
              "<__main__.car at 0x792db2e77100>"
            ]
          },
          "metadata": {},
          "execution_count": 59
        }
      ]
    },
    {
      "cell_type": "code",
      "source": [
        "class bank_account:\n",
        "\n",
        "    def __init__(self, balance ) :\n",
        "        self.__balance = balance\n",
        "\n",
        "    def deposit(self, amount ) :\n",
        "        self.__balance = self.__balance + amount\n",
        "\n",
        "    def withdraw(self, amount) :\n",
        "        if self.__balance >= amount :\n",
        "            self.__balance = self.__balance - amount\n",
        "            return True\n",
        "        else :\n",
        "            return False\n",
        "\n",
        "    def get_balance(self) :\n",
        "            return self.__balance"
      ],
      "metadata": {
        "id": "v7ByUrK9PVrp"
      },
      "execution_count": 60,
      "outputs": []
    },
    {
      "cell_type": "code",
      "source": [
        "obj_bank_account = bank_account(1000)"
      ],
      "metadata": {
        "id": "TLXW5rcgPjqV"
      },
      "execution_count": 61,
      "outputs": []
    },
    {
      "cell_type": "code",
      "source": [
        "obj_bank_account.get_balance()"
      ],
      "metadata": {
        "colab": {
          "base_uri": "https://localhost:8080/"
        },
        "id": "wioOQ-aWP2bm",
        "outputId": "0924294c-87a3-44c3-e950-5d5d99531bd6"
      },
      "execution_count": 62,
      "outputs": [
        {
          "output_type": "execute_result",
          "data": {
            "text/plain": [
              "1000"
            ]
          },
          "metadata": {},
          "execution_count": 62
        }
      ]
    },
    {
      "cell_type": "code",
      "source": [
        "obj_bank_account.deposit(6000)"
      ],
      "metadata": {
        "id": "9M2G8a6eRxkH"
      },
      "execution_count": 63,
      "outputs": []
    },
    {
      "cell_type": "code",
      "source": [
        "obj_bank_account.get_balance()"
      ],
      "metadata": {
        "colab": {
          "base_uri": "https://localhost:8080/"
        },
        "id": "38m7iIRGSOM7",
        "outputId": "eafc61a1-0844-41b1-b4a4-7c3045a83cdd"
      },
      "execution_count": 64,
      "outputs": [
        {
          "output_type": "execute_result",
          "data": {
            "text/plain": [
              "7000"
            ]
          },
          "metadata": {},
          "execution_count": 64
        }
      ]
    },
    {
      "cell_type": "code",
      "source": [
        "obj_bank_account.withdraw(10000)"
      ],
      "metadata": {
        "colab": {
          "base_uri": "https://localhost:8080/"
        },
        "id": "E-ACjEZ6S1lA",
        "outputId": "eee092fc-b52a-47a2-88bb-2443f436fde1"
      },
      "execution_count": 65,
      "outputs": [
        {
          "output_type": "execute_result",
          "data": {
            "text/plain": [
              "False"
            ]
          },
          "metadata": {},
          "execution_count": 65
        }
      ]
    },
    {
      "cell_type": "code",
      "source": [
        "obj_bank_account.withdraw(2000)"
      ],
      "metadata": {
        "colab": {
          "base_uri": "https://localhost:8080/"
        },
        "id": "7SW8J1bYS9bf",
        "outputId": "5116b9e9-1412-4efd-9eec-994a3f53f5f8"
      },
      "execution_count": 66,
      "outputs": [
        {
          "output_type": "execute_result",
          "data": {
            "text/plain": [
              "True"
            ]
          },
          "metadata": {},
          "execution_count": 66
        }
      ]
    },
    {
      "cell_type": "code",
      "source": [
        "obj_bank_account.get_balance()"
      ],
      "metadata": {
        "colab": {
          "base_uri": "https://localhost:8080/"
        },
        "id": "xF2dKYWlTDCD",
        "outputId": "37e3d663-a220-48ad-8b4a-9ff048a985ae"
      },
      "execution_count": 67,
      "outputs": [
        {
          "output_type": "execute_result",
          "data": {
            "text/plain": [
              "5000"
            ]
          },
          "metadata": {},
          "execution_count": 67
        }
      ]
    },
    {
      "cell_type": "code",
      "source": [
        "class parent:\n",
        "\n",
        "  def test_parent(self) :\n",
        "      print(\"this is my parent class\")"
      ],
      "metadata": {
        "id": "7uvcOPx6TOLz"
      },
      "execution_count": 68,
      "outputs": []
    },
    {
      "cell_type": "code",
      "source": [
        "class child(parent):\n",
        "   pass"
      ],
      "metadata": {
        "id": "_47ay2YiDLfZ"
      },
      "execution_count": 69,
      "outputs": []
    },
    {
      "cell_type": "code",
      "source": [
        "child_obj = child()"
      ],
      "metadata": {
        "id": "vAyRFlqyRhtE"
      },
      "execution_count": 70,
      "outputs": []
    },
    {
      "cell_type": "code",
      "source": [
        "child_obj.test_parent()"
      ],
      "metadata": {
        "colab": {
          "base_uri": "https://localhost:8080/"
        },
        "id": "M7DltFKaRlIo",
        "outputId": "a1b35dbe-81d8-4035-fadd-3bbc47037768"
      },
      "execution_count": 71,
      "outputs": [
        {
          "output_type": "stream",
          "name": "stdout",
          "text": [
            "this is my parent class\n"
          ]
        }
      ]
    },
    {
      "cell_type": "code",
      "source": [
        "class class1 :\n",
        "  def test_class1(self) :\n",
        "      print(\"this is my class1 \")"
      ],
      "metadata": {
        "id": "WN0pbYW0SPNO"
      },
      "execution_count": 72,
      "outputs": []
    },
    {
      "cell_type": "code",
      "source": [
        "class class2(class1) :\n",
        "    def test_class2(self) :\n",
        "        print(\"this is my class2\")"
      ],
      "metadata": {
        "id": "Jxy1kI3JTEbV"
      },
      "execution_count": 73,
      "outputs": []
    },
    {
      "cell_type": "code",
      "source": [
        "class class3(class2) :\n",
        "    def test_class3(self) :\n",
        "        print(\"this is my class3 \")"
      ],
      "metadata": {
        "id": "Rihxc0q1TX19"
      },
      "execution_count": 74,
      "outputs": []
    },
    {
      "cell_type": "code",
      "source": [
        "obj_class3 = class3()"
      ],
      "metadata": {
        "id": "ak7L_bL5TrH_"
      },
      "execution_count": 75,
      "outputs": []
    },
    {
      "cell_type": "code",
      "source": [
        "obj_class3.test_class1()"
      ],
      "metadata": {
        "colab": {
          "base_uri": "https://localhost:8080/"
        },
        "id": "ux6zofv6Tv-Y",
        "outputId": "75df70e3-98ed-472b-a038-6371fcb418ba"
      },
      "execution_count": 76,
      "outputs": [
        {
          "output_type": "stream",
          "name": "stdout",
          "text": [
            "this is my class1 \n"
          ]
        }
      ]
    },
    {
      "cell_type": "code",
      "source": [
        "obj_class3.test_class2()"
      ],
      "metadata": {
        "colab": {
          "base_uri": "https://localhost:8080/"
        },
        "id": "ks7ruWi8Upbh",
        "outputId": "08e51c5d-b549-42be-e45a-3c2925639820"
      },
      "execution_count": 77,
      "outputs": [
        {
          "output_type": "stream",
          "name": "stdout",
          "text": [
            "this is my class2\n"
          ]
        }
      ]
    },
    {
      "cell_type": "code",
      "source": [
        "obj_class3.test_class3()"
      ],
      "metadata": {
        "colab": {
          "base_uri": "https://localhost:8080/"
        },
        "id": "35qzTrKAWtmY",
        "outputId": "73019487-129f-4cf3-fbe2-e4491439344b"
      },
      "execution_count": 78,
      "outputs": [
        {
          "output_type": "stream",
          "name": "stdout",
          "text": [
            "this is my class3 \n"
          ]
        }
      ]
    },
    {
      "cell_type": "code",
      "source": [
        "class class1 :\n",
        "  def test_class1(self) :\n",
        "      print(\"this is my class 1\")"
      ],
      "metadata": {
        "id": "wkN5ezbyWyRr"
      },
      "execution_count": 79,
      "outputs": []
    },
    {
      "cell_type": "code",
      "source": [
        "class class2 :\n",
        "    def test_class2(self) :\n",
        "        print(\"this is my class 2\")"
      ],
      "metadata": {
        "id": "UmNmYIjMW-5O"
      },
      "execution_count": 80,
      "outputs": []
    },
    {
      "cell_type": "code",
      "source": [
        "class class3 (class1, class2) :\n",
        "    pass"
      ],
      "metadata": {
        "id": "QmDPtiVfX_E0"
      },
      "execution_count": 81,
      "outputs": []
    },
    {
      "cell_type": "code",
      "source": [
        "obj_class3 = class3()"
      ],
      "metadata": {
        "id": "nhx82dWgYcO7"
      },
      "execution_count": 82,
      "outputs": []
    },
    {
      "cell_type": "code",
      "source": [
        "obj_class3.test_class1()"
      ],
      "metadata": {
        "colab": {
          "base_uri": "https://localhost:8080/"
        },
        "id": "Jc7aSs-DYrMa",
        "outputId": "b16df3fc-1983-474e-c40b-d015dcc3f251"
      },
      "execution_count": 83,
      "outputs": [
        {
          "output_type": "stream",
          "name": "stdout",
          "text": [
            "this is my class 1\n"
          ]
        }
      ]
    },
    {
      "cell_type": "code",
      "source": [
        "obj_class3.test_class2()"
      ],
      "metadata": {
        "colab": {
          "base_uri": "https://localhost:8080/"
        },
        "id": "lJiTXMY8Y0nX",
        "outputId": "4f26f776-7601-4199-e8e7-ab017626917f"
      },
      "execution_count": 84,
      "outputs": [
        {
          "output_type": "stream",
          "name": "stdout",
          "text": [
            "this is my class 2\n"
          ]
        }
      ]
    },
    {
      "cell_type": "code",
      "source": [
        "#abstract"
      ],
      "metadata": {
        "id": "anJ9-kUFZJ-o"
      },
      "execution_count": 85,
      "outputs": []
    },
    {
      "cell_type": "code",
      "source": [
        "import abc\n",
        "\n",
        "class pwskills :\n",
        "\n",
        "    @abc.abstractmethod\n",
        "    def student_details(self):\n",
        "        pass\n",
        "\n",
        "    @abc.abstractmethod\n",
        "    def student_assignment(self):\n",
        "        pass\n",
        "\n",
        "    @abc.abstractmethod\n",
        "    def student_marks(self):\n",
        "        pass\n"
      ],
      "metadata": {
        "id": "vp_lCKCEZnx3"
      },
      "execution_count": 86,
      "outputs": []
    },
    {
      "cell_type": "code",
      "source": [
        "class data_science(pwskills):\n",
        "\n",
        "  def student_details(self):\n",
        "      return \"it will try to return a details of data science masters\"\n",
        "\n",
        "  def student_assignment(self):\n",
        "      return \"it will return a details of student assignment for data science masters\""
      ],
      "metadata": {
        "id": "taNEjF1aaFGU"
      },
      "execution_count": 87,
      "outputs": []
    },
    {
      "cell_type": "code",
      "source": [
        "class web_dev(pwskills):\n",
        "  def student_details(self):\n",
        "         return \"this will return a details of web dev \"\n",
        "\n",
        "  def student_marks(self):\n",
        "         return \"this will return a marks of web dev class\""
      ],
      "metadata": {
        "id": "q1vd1Nj0biMz"
      },
      "execution_count": 88,
      "outputs": []
    },
    {
      "cell_type": "code",
      "source": [
        "ds = data_science()\n",
        "ds.student_details()"
      ],
      "metadata": {
        "colab": {
          "base_uri": "https://localhost:8080/",
          "height": 36
        },
        "id": "WS1yDezncf6C",
        "outputId": "ef8e987f-cebc-408c-ccf4-292066568872"
      },
      "execution_count": 89,
      "outputs": [
        {
          "output_type": "execute_result",
          "data": {
            "text/plain": [
              "'it will try to return a details of data science masters'"
            ],
            "application/vnd.google.colaboratory.intrinsic+json": {
              "type": "string"
            }
          },
          "metadata": {},
          "execution_count": 89
        }
      ]
    },
    {
      "cell_type": "code",
      "source": [
        "wb = web_dev()\n",
        "wb.student_details()"
      ],
      "metadata": {
        "colab": {
          "base_uri": "https://localhost:8080/",
          "height": 36
        },
        "id": "kiqKFizBc6w6",
        "outputId": "40c352c6-4b03-4299-da48-5adc11d6d1b3"
      },
      "execution_count": 90,
      "outputs": [
        {
          "output_type": "execute_result",
          "data": {
            "text/plain": [
              "'this will return a details of web dev '"
            ],
            "application/vnd.google.colaboratory.intrinsic+json": {
              "type": "string"
            }
          },
          "metadata": {},
          "execution_count": 90
        }
      ]
    },
    {
      "cell_type": "code",
      "source": [
        "#Decorator"
      ],
      "metadata": {
        "id": "8AtJj_mNdG8z"
      },
      "execution_count": 91,
      "outputs": []
    },
    {
      "cell_type": "code",
      "source": [
        "def test():\n",
        "    print(\"this is my start of my fun\")\n",
        "    print(4+5)\n",
        "    print(\"this is the end of my fun\")"
      ],
      "metadata": {
        "id": "ofTnVR7neJ2A"
      },
      "execution_count": 92,
      "outputs": []
    },
    {
      "cell_type": "code",
      "source": [
        "test()"
      ],
      "metadata": {
        "colab": {
          "base_uri": "https://localhost:8080/"
        },
        "id": "JbqhAx42eRPb",
        "outputId": "a3f4a0d4-0adc-48d7-f774-882bf41dcddf"
      },
      "execution_count": 93,
      "outputs": [
        {
          "output_type": "stream",
          "name": "stdout",
          "text": [
            "this is my start of my fun\n",
            "9\n",
            "this is the end of my fun\n"
          ]
        }
      ]
    },
    {
      "cell_type": "code",
      "source": [
        "def deco(func):\n",
        "    def inner_deco():\n",
        "        print(\"this is the start of my fun\")\n",
        "        func()\n",
        "        print(\"this is the end of my func\")\n",
        "    return inner_deco"
      ],
      "metadata": {
        "id": "LWU33qi1eTyv"
      },
      "execution_count": 94,
      "outputs": []
    },
    {
      "cell_type": "code",
      "source": [
        "@deco\n",
        "def test1():\n",
        "  print(4+5)"
      ],
      "metadata": {
        "id": "KwvtkCzpfTQc"
      },
      "execution_count": 95,
      "outputs": []
    },
    {
      "cell_type": "code",
      "source": [
        "test1()"
      ],
      "metadata": {
        "colab": {
          "base_uri": "https://localhost:8080/"
        },
        "id": "CTZajmTNfXca",
        "outputId": "9f86a117-ecb7-4e3e-81e2-0c0325799baa"
      },
      "execution_count": 96,
      "outputs": [
        {
          "output_type": "stream",
          "name": "stdout",
          "text": [
            "this is the start of my fun\n",
            "9\n",
            "this is the end of my func\n"
          ]
        }
      ]
    },
    {
      "cell_type": "code",
      "source": [
        "import time\n",
        "def timer_test(func) :\n",
        "  def timer_test_inner():\n",
        "      start = time.time()\n",
        "      func()\n",
        "      end = time.time()\n",
        "      print(end-start)\n",
        "  return timer_test_inner"
      ],
      "metadata": {
        "id": "4UmA5PsJfhJ2"
      },
      "execution_count": 97,
      "outputs": []
    },
    {
      "cell_type": "code",
      "source": [
        "@timer_test\n",
        "def test2():\n",
        "    print(45+67)"
      ],
      "metadata": {
        "id": "r2r8Yw4Ygwjo"
      },
      "execution_count": 98,
      "outputs": []
    },
    {
      "cell_type": "code",
      "source": [
        "test2()"
      ],
      "metadata": {
        "colab": {
          "base_uri": "https://localhost:8080/"
        },
        "id": "UugWo9BEg4u-",
        "outputId": "b6c0eee9-e41b-4ec0-c68a-c454ce291258"
      },
      "execution_count": 99,
      "outputs": [
        {
          "output_type": "stream",
          "name": "stdout",
          "text": [
            "112\n",
            "3.743171691894531e-05\n"
          ]
        }
      ]
    },
    {
      "cell_type": "code",
      "source": [
        "@timer_test\n",
        "def test3():\n",
        "    for i in range(1000):\n",
        "        pass"
      ],
      "metadata": {
        "id": "D6kDhb8dhAet"
      },
      "execution_count": 100,
      "outputs": []
    },
    {
      "cell_type": "code",
      "source": [
        "test3()"
      ],
      "metadata": {
        "colab": {
          "base_uri": "https://localhost:8080/"
        },
        "id": "YAM73-FhhJ7T",
        "outputId": "3068b549-ca3a-4a03-9486-9bfc2d2d888b"
      },
      "execution_count": 101,
      "outputs": [
        {
          "output_type": "stream",
          "name": "stdout",
          "text": [
            "4.00543212890625e-05\n"
          ]
        }
      ]
    },
    {
      "cell_type": "code",
      "source": [
        "#class methods"
      ],
      "metadata": {
        "id": "Bk-51mK1hVlR"
      },
      "execution_count": 102,
      "outputs": []
    },
    {
      "cell_type": "code",
      "source": [
        "class pwskills:\n",
        "    def __init__(self, name, email):\n",
        "\n",
        "        self.name = name\n",
        "        self.email = email\n",
        "\n",
        "    def student_details(self):\n",
        "        print(self.name, self.email)"
      ],
      "metadata": {
        "id": "2CocBqFloy1Y"
      },
      "execution_count": 103,
      "outputs": []
    },
    {
      "cell_type": "code",
      "source": [
        "pw = pwskills(\"sudh\", \"sudh@gmail.com\")"
      ],
      "metadata": {
        "id": "eCVBDE_hpPsC"
      },
      "execution_count": 104,
      "outputs": []
    },
    {
      "cell_type": "code",
      "source": [
        "pw.name"
      ],
      "metadata": {
        "colab": {
          "base_uri": "https://localhost:8080/",
          "height": 36
        },
        "id": "sCIMThp_puMr",
        "outputId": "a6c3b35f-5338-4446-c384-e2eac121f4be"
      },
      "execution_count": 105,
      "outputs": [
        {
          "output_type": "execute_result",
          "data": {
            "text/plain": [
              "'sudh'"
            ],
            "application/vnd.google.colaboratory.intrinsic+json": {
              "type": "string"
            }
          },
          "metadata": {},
          "execution_count": 105
        }
      ]
    },
    {
      "cell_type": "code",
      "source": [
        "pw.email"
      ],
      "metadata": {
        "colab": {
          "base_uri": "https://localhost:8080/",
          "height": 36
        },
        "id": "QhXhZnZupvvX",
        "outputId": "a3d3edf9-42af-4b42-c342-5c000bc9d732"
      },
      "execution_count": 106,
      "outputs": [
        {
          "output_type": "execute_result",
          "data": {
            "text/plain": [
              "'sudh@gmail.com'"
            ],
            "application/vnd.google.colaboratory.intrinsic+json": {
              "type": "string"
            }
          },
          "metadata": {},
          "execution_count": 106
        }
      ]
    },
    {
      "cell_type": "code",
      "source": [
        "pw.student_details()"
      ],
      "metadata": {
        "colab": {
          "base_uri": "https://localhost:8080/"
        },
        "id": "ntSKWPm2pxcX",
        "outputId": "54d84c99-0e5b-482f-cd90-96ccf17f0d73"
      },
      "execution_count": 107,
      "outputs": [
        {
          "output_type": "stream",
          "name": "stdout",
          "text": [
            "sudh sudh@gmail.com\n"
          ]
        }
      ]
    },
    {
      "cell_type": "code",
      "source": [
        "class pwskills1:\n",
        "  def __init__(self, name, email):\n",
        "\n",
        "      self.name = name\n",
        "      self.email = email\n",
        "\n",
        "  @classmethod\n",
        "  def details(cls, name1, email1):\n",
        "      return cls(name1, email1)\n",
        "\n",
        "  def student_details(self):\n",
        "      print(self.name, self.email)"
      ],
      "metadata": {
        "id": "rmW9C_3bp1MP"
      },
      "execution_count": 108,
      "outputs": []
    },
    {
      "cell_type": "code",
      "source": [
        "pw1 = pwskills1.details(\"mohan\", \"mohan@gmail.com\")"
      ],
      "metadata": {
        "id": "WxYn8SZUulfI"
      },
      "execution_count": 109,
      "outputs": []
    },
    {
      "cell_type": "code",
      "source": [
        "pw1.name"
      ],
      "metadata": {
        "colab": {
          "base_uri": "https://localhost:8080/",
          "height": 36
        },
        "id": "yixGiIM3uun0",
        "outputId": "50b8cd0c-2f08-4c13-edb1-8642c1e2295d"
      },
      "execution_count": 110,
      "outputs": [
        {
          "output_type": "execute_result",
          "data": {
            "text/plain": [
              "'mohan'"
            ],
            "application/vnd.google.colaboratory.intrinsic+json": {
              "type": "string"
            }
          },
          "metadata": {},
          "execution_count": 110
        }
      ]
    },
    {
      "cell_type": "code",
      "source": [
        "pw1.email"
      ],
      "metadata": {
        "colab": {
          "base_uri": "https://localhost:8080/",
          "height": 36
        },
        "id": "yqoU6ff2u16s",
        "outputId": "21471d43-de72-4794-b0a6-931c8260353b"
      },
      "execution_count": 111,
      "outputs": [
        {
          "output_type": "execute_result",
          "data": {
            "text/plain": [
              "'mohan@gmail.com'"
            ],
            "application/vnd.google.colaboratory.intrinsic+json": {
              "type": "string"
            }
          },
          "metadata": {},
          "execution_count": 111
        }
      ]
    },
    {
      "cell_type": "code",
      "source": [
        "pw1.student_details()"
      ],
      "metadata": {
        "colab": {
          "base_uri": "https://localhost:8080/"
        },
        "id": "ggJpPvq5u5Z5",
        "outputId": "5499e2ac-6cf9-46c0-f9dd-86bc97bb70a2"
      },
      "execution_count": 112,
      "outputs": [
        {
          "output_type": "stream",
          "name": "stdout",
          "text": [
            "mohan mohan@gmail.com\n"
          ]
        }
      ]
    },
    {
      "cell_type": "code",
      "source": [
        "class pwskills2:\n",
        "\n",
        "  mobile_number = 9876568723\n",
        "\n",
        "  def __init__(self, name, email):\n",
        "\n",
        "      self.name = name\n",
        "      self.email = email\n",
        "\n",
        "  @classmethod\n",
        "  def change_number(cls, mobile):\n",
        "      pwskills2.mobile_number = mobile\n",
        "\n",
        "  @classmethod\n",
        "  def details(cls, name1, email1):\n",
        "      return cls(name1, email1)\n",
        "\n",
        "  def student_details(self):\n",
        "      print(self.name, self.email, pwskills2.mobile_number)"
      ],
      "metadata": {
        "id": "0wuWHoJ2vxkw"
      },
      "execution_count": 113,
      "outputs": []
    },
    {
      "cell_type": "code",
      "source": [
        "pw2_obj = pwskills2(\"sohil\", \"sohil@gmail.com\")"
      ],
      "metadata": {
        "id": "OXcEqdcNyvpH"
      },
      "execution_count": 114,
      "outputs": []
    },
    {
      "cell_type": "code",
      "source": [
        "pw2_obj.details(\"sudh\", \"sudh@gmail.com\")"
      ],
      "metadata": {
        "colab": {
          "base_uri": "https://localhost:8080/"
        },
        "id": "WfPrUTS7y4MH",
        "outputId": "acc569de-17c6-4b50-cb96-1500042eae61"
      },
      "execution_count": 115,
      "outputs": [
        {
          "output_type": "execute_result",
          "data": {
            "text/plain": [
              "<__main__.pwskills2 at 0x792db2e769e0>"
            ]
          },
          "metadata": {},
          "execution_count": 115
        }
      ]
    },
    {
      "cell_type": "code",
      "source": [
        "pw2_obj.name"
      ],
      "metadata": {
        "colab": {
          "base_uri": "https://localhost:8080/",
          "height": 36
        },
        "id": "-fqkTLwgzNi5",
        "outputId": "1efd4eec-0224-42c1-e0a1-a40714f9af3c"
      },
      "execution_count": 116,
      "outputs": [
        {
          "output_type": "execute_result",
          "data": {
            "text/plain": [
              "'sohil'"
            ],
            "application/vnd.google.colaboratory.intrinsic+json": {
              "type": "string"
            }
          },
          "metadata": {},
          "execution_count": 116
        }
      ]
    },
    {
      "cell_type": "code",
      "source": [
        "pw2_obj.change_number(98762345)"
      ],
      "metadata": {
        "id": "QSzJQskQzXiR"
      },
      "execution_count": 117,
      "outputs": []
    },
    {
      "cell_type": "code",
      "source": [
        "pwskills2.mobile_number"
      ],
      "metadata": {
        "colab": {
          "base_uri": "https://localhost:8080/"
        },
        "id": "pAFzu7feyMRk",
        "outputId": "9f9e791f-f6ca-457d-f61d-5109d1abe707"
      },
      "execution_count": 118,
      "outputs": [
        {
          "output_type": "execute_result",
          "data": {
            "text/plain": [
              "98762345"
            ]
          },
          "metadata": {},
          "execution_count": 118
        }
      ]
    },
    {
      "cell_type": "code",
      "source": [
        "pwskills2.change_number(9233334565)"
      ],
      "metadata": {
        "id": "dounvQRkyWVk"
      },
      "execution_count": 119,
      "outputs": []
    },
    {
      "cell_type": "code",
      "source": [
        "pwskills2.mobile_number"
      ],
      "metadata": {
        "colab": {
          "base_uri": "https://localhost:8080/"
        },
        "id": "mTGSiQWLwRAq",
        "outputId": "15093b18-56a8-4473-e6e3-284dfbc312a5"
      },
      "execution_count": 120,
      "outputs": [
        {
          "output_type": "execute_result",
          "data": {
            "text/plain": [
              "9233334565"
            ]
          },
          "metadata": {},
          "execution_count": 120
        }
      ]
    },
    {
      "cell_type": "code",
      "source": [
        "pw2 = pwskills2.details(\"sohan\", \"sohan@gmail.com\")"
      ],
      "metadata": {
        "id": "vPE6xdHpwT3j"
      },
      "execution_count": 121,
      "outputs": []
    },
    {
      "cell_type": "code",
      "source": [
        "pw2.student_details()"
      ],
      "metadata": {
        "colab": {
          "base_uri": "https://localhost:8080/"
        },
        "id": "D4Q7Y2J4wvZt",
        "outputId": "3e690936-2d61-4532-a37a-6b5d83274831"
      },
      "execution_count": 122,
      "outputs": [
        {
          "output_type": "stream",
          "name": "stdout",
          "text": [
            "sohan sohan@gmail.com 9233334565\n"
          ]
        }
      ]
    },
    {
      "cell_type": "code",
      "source": [
        "pw2_obj = pwskills2(\"rohan\", \"rohan@gmail.com\")"
      ],
      "metadata": {
        "id": "z2PJB2DUw1qx"
      },
      "execution_count": 123,
      "outputs": []
    },
    {
      "cell_type": "code",
      "source": [
        "pw2_obj.student_details()"
      ],
      "metadata": {
        "colab": {
          "base_uri": "https://localhost:8080/"
        },
        "id": "8xZDoJXxxEX7",
        "outputId": "68823deb-3c90-453e-9ee1-c14891723b84"
      },
      "execution_count": 124,
      "outputs": [
        {
          "output_type": "stream",
          "name": "stdout",
          "text": [
            "rohan rohan@gmail.com 9233334565\n"
          ]
        }
      ]
    },
    {
      "cell_type": "code",
      "source": [
        "class pwskills3:\n",
        "\n",
        "  mobile_number = 9876568723\n",
        "\n",
        "  def __init__(self, name, email):\n",
        "\n",
        "      self.name = name\n",
        "      self.email = email\n",
        "\n",
        "  @classmethod\n",
        "  def change_number(cls, mobile):\n",
        "      pwskills2.mobile_number = mobile\n",
        "\n",
        "  @classmethod\n",
        "  def details(cls, name1, email1):\n",
        "      return cls(name1, email1)\n",
        "\n",
        "  def student_details(self):\n",
        "      print(self.name, self.email, pwskills2.mobile_number)"
      ],
      "metadata": {
        "id": "L03elEcdxLhc"
      },
      "execution_count": 125,
      "outputs": []
    },
    {
      "cell_type": "code",
      "source": [
        "def course_details(cls, course_name ):\n",
        "    print(\"course details\", course_name)"
      ],
      "metadata": {
        "id": "xLSSqju9z9mS"
      },
      "execution_count": 126,
      "outputs": []
    },
    {
      "cell_type": "code",
      "source": [
        "pwskills3.course_details = classmethod(course_details)"
      ],
      "metadata": {
        "id": "B2YfEfww0OwK"
      },
      "execution_count": 127,
      "outputs": []
    },
    {
      "cell_type": "code",
      "source": [
        "pwskills3.course_details(\"data science masters\")"
      ],
      "metadata": {
        "colab": {
          "base_uri": "https://localhost:8080/"
        },
        "id": "WwZpb-EG0bj-",
        "outputId": "1b2823a2-6a56-4823-8539-0ea0f01d1270"
      },
      "execution_count": 128,
      "outputs": [
        {
          "output_type": "stream",
          "name": "stdout",
          "text": [
            "course details data science masters\n"
          ]
        }
      ]
    },
    {
      "cell_type": "code",
      "source": [
        "pw3 = pwskills3(\"sudh\", \"sudh@gmail.com\")"
      ],
      "metadata": {
        "id": "J_KiYd2H0s0N"
      },
      "execution_count": 129,
      "outputs": []
    },
    {
      "cell_type": "code",
      "source": [
        "pw3.course_details(\"web dev\")"
      ],
      "metadata": {
        "colab": {
          "base_uri": "https://localhost:8080/"
        },
        "id": "A4dcdz5H03VX",
        "outputId": "4f909938-ba1a-4c77-d006-6679ecb04b6e"
      },
      "execution_count": 130,
      "outputs": [
        {
          "output_type": "stream",
          "name": "stdout",
          "text": [
            "course details web dev\n"
          ]
        }
      ]
    },
    {
      "cell_type": "code",
      "source": [
        "class pwskills4:\n",
        "\n",
        "  mobile_number = 9876568723\n",
        "\n",
        "  def __init__(self, name, email):\n",
        "\n",
        "      self.name = name\n",
        "      self.email = email\n",
        "\n",
        "  @classmethod\n",
        "  def change_number(cls, mobile):\n",
        "      pwskills2.mobile_number = mobile\n",
        "\n",
        "  @classmethod\n",
        "  def details(cls, name1, email1):\n",
        "      return cls(name1, email1)\n",
        "\n",
        "  def student_details(self):\n",
        "      print(self.name, self.email, pwskills2.mobile_number)"
      ],
      "metadata": {
        "id": "7GkuxGF-0-Ik"
      },
      "execution_count": 131,
      "outputs": []
    },
    {
      "cell_type": "code",
      "source": [
        "del pwskills4.change_number"
      ],
      "metadata": {
        "id": "XSfFAnDa1ZQ3"
      },
      "execution_count": 132,
      "outputs": []
    },
    {
      "cell_type": "code",
      "source": [
        "#pwskills4.change_number(23456765676)"
      ],
      "metadata": {
        "id": "PjqiEJLR1eus"
      },
      "execution_count": 133,
      "outputs": []
    },
    {
      "cell_type": "code",
      "source": [
        "delattr(pwskills4, \"details\")"
      ],
      "metadata": {
        "id": "auGbP_s31oJZ"
      },
      "execution_count": 134,
      "outputs": []
    },
    {
      "cell_type": "code",
      "source": [
        "#pwskills4.mobile_number  (because of next code)"
      ],
      "metadata": {
        "id": "cB2AkBdd2as6"
      },
      "execution_count": 135,
      "outputs": []
    },
    {
      "cell_type": "code",
      "source": [
        "delattr(pwskills4, \"mobile_number\")"
      ],
      "metadata": {
        "id": "dTNW93sp1zca"
      },
      "execution_count": 136,
      "outputs": []
    },
    {
      "cell_type": "code",
      "source": [
        "delattr(pwskills4, \"student_details\")"
      ],
      "metadata": {
        "id": "fAoCUier2YxW"
      },
      "execution_count": 137,
      "outputs": []
    },
    {
      "cell_type": "code",
      "source": [
        "pwskills4"
      ],
      "metadata": {
        "colab": {
          "base_uri": "https://localhost:8080/"
        },
        "id": "o9pUP9Wy25yY",
        "outputId": "6135047a-c821-454d-a7fc-c0f344d2027b"
      },
      "execution_count": 138,
      "outputs": [
        {
          "output_type": "execute_result",
          "data": {
            "text/plain": [
              "__main__.pwskills4"
            ]
          },
          "metadata": {},
          "execution_count": 138
        }
      ]
    },
    {
      "cell_type": "code",
      "source": [
        "# static method"
      ],
      "metadata": {
        "id": "CGJFdx9D27vc"
      },
      "execution_count": 139,
      "outputs": []
    },
    {
      "cell_type": "code",
      "source": [
        "class pwskills :\n",
        "    def student_details(self, name, mail_id, number):\n",
        "        print(name, mail_id, number)"
      ],
      "metadata": {
        "id": "Lc-_YoP1_9xp"
      },
      "execution_count": 140,
      "outputs": []
    },
    {
      "cell_type": "code",
      "source": [
        "pw = pwskills()"
      ],
      "metadata": {
        "id": "QpXJ-tKoAYCf"
      },
      "execution_count": 141,
      "outputs": []
    },
    {
      "cell_type": "code",
      "source": [
        "pw.student_details(\"sudh\", \"sudh@gmail.com\", 9134567765)"
      ],
      "metadata": {
        "colab": {
          "base_uri": "https://localhost:8080/"
        },
        "id": "33aGnsLgAaAt",
        "outputId": "1a9f8e99-226c-4acf-853c-b4bf69687213"
      },
      "execution_count": 142,
      "outputs": [
        {
          "output_type": "stream",
          "name": "stdout",
          "text": [
            "sudh sudh@gmail.com 9134567765\n"
          ]
        }
      ]
    },
    {
      "cell_type": "code",
      "source": [
        "class pwskills1:\n",
        "   def student_details(self, name, mail_id, number) :\n",
        "       print(name, mail_id, number)\n",
        "\n",
        "   @staticmethod\n",
        "   def mentor_class(list_mentor) :\n",
        "       print(list_mentor)\n",
        "\n",
        "   def mentor(self, mentor_list) :\n",
        "       print(mentor_list)"
      ],
      "metadata": {
        "id": "2UFNld5bAitb"
      },
      "execution_count": 143,
      "outputs": []
    },
    {
      "cell_type": "code",
      "source": [
        "pw1 = pwskills1()"
      ],
      "metadata": {
        "id": "N-1U2_d6BS7l"
      },
      "execution_count": 144,
      "outputs": []
    },
    {
      "cell_type": "code",
      "source": [
        "pw1.mentor([\"krish\", \"sudh\"])"
      ],
      "metadata": {
        "colab": {
          "base_uri": "https://localhost:8080/"
        },
        "id": "WFXJLt6dB_om",
        "outputId": "326331bb-fc97-4410-aa50-4cdb038f5053"
      },
      "execution_count": 145,
      "outputs": [
        {
          "output_type": "stream",
          "name": "stdout",
          "text": [
            "['krish', 'sudh']\n"
          ]
        }
      ]
    },
    {
      "cell_type": "code",
      "source": [
        "pw1.mentor_class([\"sudh\", \"naik\"])"
      ],
      "metadata": {
        "colab": {
          "base_uri": "https://localhost:8080/"
        },
        "id": "JSxnTFlMCEbl",
        "outputId": "ad4d72e3-8b13-4a5f-86c8-6a3a4ea34bda"
      },
      "execution_count": 146,
      "outputs": [
        {
          "output_type": "stream",
          "name": "stdout",
          "text": [
            "['sudh', 'naik']\n"
          ]
        }
      ]
    },
    {
      "cell_type": "code",
      "source": [
        "pwskills1.mentor_class([\"sudh\", \"kris\"])"
      ],
      "metadata": {
        "colab": {
          "base_uri": "https://localhost:8080/"
        },
        "id": "D5IwvNkRMUg1",
        "outputId": "aeced39d-7b00-4e04-df66-69bc9777bd1d"
      },
      "execution_count": 147,
      "outputs": [
        {
          "output_type": "stream",
          "name": "stdout",
          "text": [
            "['sudh', 'kris']\n"
          ]
        }
      ]
    },
    {
      "cell_type": "code",
      "source": [
        "class pwskills1:\n",
        "   def student_details(self, name, mail_id, number) :\n",
        "       print(name, mail_id, number)\n",
        "\n",
        "   @staticmethod\n",
        "   def mentor_mail_id(mail_id):\n",
        "        print(mail_id)\n",
        "\n",
        "\n",
        "   @staticmethod\n",
        "   def mentor_class(list_mentor) :\n",
        "       print(list_mentor)\n",
        "       pwskills1.mentor_mail_id([\"krish@gmail.com\", \"sudh@gmail.com\"])\n",
        "\n",
        "   @classmethod\n",
        "   def class_name(cls, class_name) :\n",
        "       cls.mentor_class([\"sudh\", \"krish\"])\n",
        "\n",
        "   def mentor(self, mentor_list) :\n",
        "       print(mentor_list)\n",
        "       self.mentor_class([\"krish\", \"sudh\"])"
      ],
      "metadata": {
        "id": "lEG0MSO-MdkR"
      },
      "execution_count": 162,
      "outputs": []
    },
    {
      "cell_type": "code",
      "source": [
        "pw1 = pwskills1()"
      ],
      "metadata": {
        "id": "Ng7bgOLQw5oI"
      },
      "execution_count": 163,
      "outputs": []
    },
    {
      "cell_type": "code",
      "source": [
        "pw1.student_details(\"mohan\", \"mohan@gmail.com\", 98709654)"
      ],
      "metadata": {
        "colab": {
          "base_uri": "https://localhost:8080/"
        },
        "id": "Hrsb8tACxwv3",
        "outputId": "aca2d7a4-226f-4101-d7cd-e0a9e74a3a44"
      },
      "execution_count": 164,
      "outputs": [
        {
          "output_type": "stream",
          "name": "stdout",
          "text": [
            "mohan mohan@gmail.com 98709654\n"
          ]
        }
      ]
    },
    {
      "cell_type": "code",
      "source": [
        "pw1.mentor_mail_id([\"krish@gmail.com\", \"sudh@gmail.com\"])"
      ],
      "metadata": {
        "colab": {
          "base_uri": "https://localhost:8080/"
        },
        "id": "5LCx4zCZyAjX",
        "outputId": "786be179-7d8d-4b9c-d420-bf9ce433ad9c"
      },
      "execution_count": 165,
      "outputs": [
        {
          "output_type": "stream",
          "name": "stdout",
          "text": [
            "['krish@gmail.com', 'sudh@gmail.com']\n"
          ]
        }
      ]
    },
    {
      "cell_type": "code",
      "source": [
        "pw1.class_name(\"data science masters\")"
      ],
      "metadata": {
        "colab": {
          "base_uri": "https://localhost:8080/"
        },
        "id": "ElvBbibNyguI",
        "outputId": "6436a78d-1862-489e-bfff-36997caa2437"
      },
      "execution_count": 166,
      "outputs": [
        {
          "output_type": "stream",
          "name": "stdout",
          "text": [
            "['sudh', 'krish']\n",
            "['krish@gmail.com', 'sudh@gmail.com']\n"
          ]
        }
      ]
    },
    {
      "cell_type": "code",
      "source": [
        "pwskills1.mentor_mail_id([\"krish@gmail.com\", \"sudh@gmail.com\"])"
      ],
      "metadata": {
        "colab": {
          "base_uri": "https://localhost:8080/"
        },
        "id": "vZnwgjIbzjhG",
        "outputId": "21c88bc8-3a82-4706-f809-95c88fbc2dc1"
      },
      "execution_count": 167,
      "outputs": [
        {
          "output_type": "stream",
          "name": "stdout",
          "text": [
            "['krish@gmail.com', 'sudh@gmail.com']\n"
          ]
        }
      ]
    },
    {
      "cell_type": "code",
      "source": [
        "#special (Magic/Dunger) method"
      ],
      "metadata": {
        "id": "63aTdiK91wgP"
      },
      "execution_count": 168,
      "outputs": []
    },
    {
      "cell_type": "code",
      "source": [
        "dir(int)"
      ],
      "metadata": {
        "colab": {
          "base_uri": "https://localhost:8080/"
        },
        "id": "uFf9BJw02kLC",
        "outputId": "0c7c593d-7033-472e-f39b-f181394a212c"
      },
      "execution_count": 169,
      "outputs": [
        {
          "output_type": "execute_result",
          "data": {
            "text/plain": [
              "['__abs__',\n",
              " '__add__',\n",
              " '__and__',\n",
              " '__bool__',\n",
              " '__ceil__',\n",
              " '__class__',\n",
              " '__delattr__',\n",
              " '__dir__',\n",
              " '__divmod__',\n",
              " '__doc__',\n",
              " '__eq__',\n",
              " '__float__',\n",
              " '__floor__',\n",
              " '__floordiv__',\n",
              " '__format__',\n",
              " '__ge__',\n",
              " '__getattribute__',\n",
              " '__getnewargs__',\n",
              " '__gt__',\n",
              " '__hash__',\n",
              " '__index__',\n",
              " '__init__',\n",
              " '__init_subclass__',\n",
              " '__int__',\n",
              " '__invert__',\n",
              " '__le__',\n",
              " '__lshift__',\n",
              " '__lt__',\n",
              " '__mod__',\n",
              " '__mul__',\n",
              " '__ne__',\n",
              " '__neg__',\n",
              " '__new__',\n",
              " '__or__',\n",
              " '__pos__',\n",
              " '__pow__',\n",
              " '__radd__',\n",
              " '__rand__',\n",
              " '__rdivmod__',\n",
              " '__reduce__',\n",
              " '__reduce_ex__',\n",
              " '__repr__',\n",
              " '__rfloordiv__',\n",
              " '__rlshift__',\n",
              " '__rmod__',\n",
              " '__rmul__',\n",
              " '__ror__',\n",
              " '__round__',\n",
              " '__rpow__',\n",
              " '__rrshift__',\n",
              " '__rshift__',\n",
              " '__rsub__',\n",
              " '__rtruediv__',\n",
              " '__rxor__',\n",
              " '__setattr__',\n",
              " '__sizeof__',\n",
              " '__str__',\n",
              " '__sub__',\n",
              " '__subclasshook__',\n",
              " '__truediv__',\n",
              " '__trunc__',\n",
              " '__xor__',\n",
              " 'as_integer_ratio',\n",
              " 'bit_count',\n",
              " 'bit_length',\n",
              " 'conjugate',\n",
              " 'denominator',\n",
              " 'from_bytes',\n",
              " 'imag',\n",
              " 'numerator',\n",
              " 'real',\n",
              " 'to_bytes']"
            ]
          },
          "metadata": {},
          "execution_count": 169
        }
      ]
    },
    {
      "cell_type": "code",
      "source": [
        "a = 10"
      ],
      "metadata": {
        "id": "1KX7I2Ej2lSD"
      },
      "execution_count": 170,
      "outputs": []
    },
    {
      "cell_type": "code",
      "source": [
        "a +6"
      ],
      "metadata": {
        "colab": {
          "base_uri": "https://localhost:8080/"
        },
        "id": "q-qA2uUR29Rb",
        "outputId": "bd93f5a9-f179-447f-9d48-62e707ff40c7"
      },
      "execution_count": 171,
      "outputs": [
        {
          "output_type": "execute_result",
          "data": {
            "text/plain": [
              "16"
            ]
          },
          "metadata": {},
          "execution_count": 171
        }
      ]
    },
    {
      "cell_type": "code",
      "source": [
        "a.__add__(6)"
      ],
      "metadata": {
        "colab": {
          "base_uri": "https://localhost:8080/"
        },
        "id": "UfWSTCZ62_ER",
        "outputId": "edb06e40-0ef6-4ad1-dc39-5744d290600c"
      },
      "execution_count": 173,
      "outputs": [
        {
          "output_type": "execute_result",
          "data": {
            "text/plain": [
              "16"
            ]
          },
          "metadata": {},
          "execution_count": 173
        }
      ]
    },
    {
      "cell_type": "code",
      "source": [
        "dir(str)"
      ],
      "metadata": {
        "colab": {
          "base_uri": "https://localhost:8080/"
        },
        "id": "vmfhExxw3CzK",
        "outputId": "57820abf-1ada-4b6e-c373-4407a67b9e52"
      },
      "execution_count": 174,
      "outputs": [
        {
          "output_type": "execute_result",
          "data": {
            "text/plain": [
              "['__add__',\n",
              " '__class__',\n",
              " '__contains__',\n",
              " '__delattr__',\n",
              " '__dir__',\n",
              " '__doc__',\n",
              " '__eq__',\n",
              " '__format__',\n",
              " '__ge__',\n",
              " '__getattribute__',\n",
              " '__getitem__',\n",
              " '__getnewargs__',\n",
              " '__gt__',\n",
              " '__hash__',\n",
              " '__init__',\n",
              " '__init_subclass__',\n",
              " '__iter__',\n",
              " '__le__',\n",
              " '__len__',\n",
              " '__lt__',\n",
              " '__mod__',\n",
              " '__mul__',\n",
              " '__ne__',\n",
              " '__new__',\n",
              " '__reduce__',\n",
              " '__reduce_ex__',\n",
              " '__repr__',\n",
              " '__rmod__',\n",
              " '__rmul__',\n",
              " '__setattr__',\n",
              " '__sizeof__',\n",
              " '__str__',\n",
              " '__subclasshook__',\n",
              " 'capitalize',\n",
              " 'casefold',\n",
              " 'center',\n",
              " 'count',\n",
              " 'encode',\n",
              " 'endswith',\n",
              " 'expandtabs',\n",
              " 'find',\n",
              " 'format',\n",
              " 'format_map',\n",
              " 'index',\n",
              " 'isalnum',\n",
              " 'isalpha',\n",
              " 'isascii',\n",
              " 'isdecimal',\n",
              " 'isdigit',\n",
              " 'isidentifier',\n",
              " 'islower',\n",
              " 'isnumeric',\n",
              " 'isprintable',\n",
              " 'isspace',\n",
              " 'istitle',\n",
              " 'isupper',\n",
              " 'join',\n",
              " 'ljust',\n",
              " 'lower',\n",
              " 'lstrip',\n",
              " 'maketrans',\n",
              " 'partition',\n",
              " 'removeprefix',\n",
              " 'removesuffix',\n",
              " 'replace',\n",
              " 'rfind',\n",
              " 'rindex',\n",
              " 'rjust',\n",
              " 'rpartition',\n",
              " 'rsplit',\n",
              " 'rstrip',\n",
              " 'split',\n",
              " 'splitlines',\n",
              " 'startswith',\n",
              " 'strip',\n",
              " 'swapcase',\n",
              " 'title',\n",
              " 'translate',\n",
              " 'upper',\n",
              " 'zfill']"
            ]
          },
          "metadata": {},
          "execution_count": 174
        }
      ]
    },
    {
      "cell_type": "code",
      "source": [
        "class pwskills:\n",
        "\n",
        "    def __new__(cls) :\n",
        "       print(\"this is my new\")\n",
        "\n",
        "    def __init__(self) :\n",
        "        print(\"this is my init\")"
      ],
      "metadata": {
        "id": "QrKDrq_b3RUU"
      },
      "execution_count": 183,
      "outputs": []
    },
    {
      "cell_type": "code",
      "source": [
        "pw = pwskills()"
      ],
      "metadata": {
        "colab": {
          "base_uri": "https://localhost:8080/"
        },
        "id": "JpSTocQUCcZ0",
        "outputId": "a67f9338-46aa-48b4-d560-a38047bb742b"
      },
      "execution_count": 184,
      "outputs": [
        {
          "output_type": "stream",
          "name": "stdout",
          "text": [
            "this is my new\n"
          ]
        }
      ]
    },
    {
      "cell_type": "code",
      "source": [
        "class pwskills1 :\n",
        "    def __init__(self) :\n",
        "        self.mobile_number = 98765487\n",
        "\n",
        "    def __str__(self) :\n",
        "        return \"this is a magic method which will print something for object \""
      ],
      "metadata": {
        "id": "CTyhMg_YCelr"
      },
      "execution_count": 189,
      "outputs": []
    },
    {
      "cell_type": "code",
      "source": [
        "pw1 = pwskills1()"
      ],
      "metadata": {
        "id": "1B5PcXJ0DhZB"
      },
      "execution_count": 190,
      "outputs": []
    },
    {
      "cell_type": "code",
      "source": [
        "pw1"
      ],
      "metadata": {
        "colab": {
          "base_uri": "https://localhost:8080/"
        },
        "id": "JFO6ox9aDkBs",
        "outputId": "8614bf47-26f1-4032-e3fd-a728f10d5b7c"
      },
      "execution_count": 191,
      "outputs": [
        {
          "output_type": "execute_result",
          "data": {
            "text/plain": [
              "<__main__.pwskills1 at 0x792db2e76620>"
            ]
          },
          "metadata": {},
          "execution_count": 191
        }
      ]
    },
    {
      "cell_type": "code",
      "source": [
        "print(pw1)"
      ],
      "metadata": {
        "colab": {
          "base_uri": "https://localhost:8080/"
        },
        "id": "RfTonRL7DlbT",
        "outputId": "b65f5fc2-f21d-46d6-e53e-8f3ee883d503"
      },
      "execution_count": 192,
      "outputs": [
        {
          "output_type": "stream",
          "name": "stdout",
          "text": [
            "this is a magic method which will print something for object \n"
          ]
        }
      ]
    },
    {
      "cell_type": "code",
      "source": [
        "dir(dict)"
      ],
      "metadata": {
        "colab": {
          "base_uri": "https://localhost:8080/"
        },
        "id": "GC0XCoCHEq7m",
        "outputId": "be3c2b58-b31a-4061-c297-4d0a78e1cc41"
      },
      "execution_count": 193,
      "outputs": [
        {
          "output_type": "execute_result",
          "data": {
            "text/plain": [
              "['__class__',\n",
              " '__class_getitem__',\n",
              " '__contains__',\n",
              " '__delattr__',\n",
              " '__delitem__',\n",
              " '__dir__',\n",
              " '__doc__',\n",
              " '__eq__',\n",
              " '__format__',\n",
              " '__ge__',\n",
              " '__getattribute__',\n",
              " '__getitem__',\n",
              " '__gt__',\n",
              " '__hash__',\n",
              " '__init__',\n",
              " '__init_subclass__',\n",
              " '__ior__',\n",
              " '__iter__',\n",
              " '__le__',\n",
              " '__len__',\n",
              " '__lt__',\n",
              " '__ne__',\n",
              " '__new__',\n",
              " '__or__',\n",
              " '__reduce__',\n",
              " '__reduce_ex__',\n",
              " '__repr__',\n",
              " '__reversed__',\n",
              " '__ror__',\n",
              " '__setattr__',\n",
              " '__setitem__',\n",
              " '__sizeof__',\n",
              " '__str__',\n",
              " '__subclasshook__',\n",
              " 'clear',\n",
              " 'copy',\n",
              " 'fromkeys',\n",
              " 'get',\n",
              " 'items',\n",
              " 'keys',\n",
              " 'pop',\n",
              " 'popitem',\n",
              " 'setdefault',\n",
              " 'update',\n",
              " 'values']"
            ]
          },
          "metadata": {},
          "execution_count": 193
        }
      ]
    },
    {
      "cell_type": "code",
      "source": [
        "dir(tuple)"
      ],
      "metadata": {
        "colab": {
          "base_uri": "https://localhost:8080/"
        },
        "id": "gKeCGFU0Fhhy",
        "outputId": "e3ebe6b8-1b78-4ce7-9340-2e3c3ae100b9"
      },
      "execution_count": 194,
      "outputs": [
        {
          "output_type": "execute_result",
          "data": {
            "text/plain": [
              "['__add__',\n",
              " '__class__',\n",
              " '__class_getitem__',\n",
              " '__contains__',\n",
              " '__delattr__',\n",
              " '__dir__',\n",
              " '__doc__',\n",
              " '__eq__',\n",
              " '__format__',\n",
              " '__ge__',\n",
              " '__getattribute__',\n",
              " '__getitem__',\n",
              " '__getnewargs__',\n",
              " '__gt__',\n",
              " '__hash__',\n",
              " '__init__',\n",
              " '__init_subclass__',\n",
              " '__iter__',\n",
              " '__le__',\n",
              " '__len__',\n",
              " '__lt__',\n",
              " '__mul__',\n",
              " '__ne__',\n",
              " '__new__',\n",
              " '__reduce__',\n",
              " '__reduce_ex__',\n",
              " '__repr__',\n",
              " '__rmul__',\n",
              " '__setattr__',\n",
              " '__sizeof__',\n",
              " '__str__',\n",
              " '__subclasshook__',\n",
              " 'count',\n",
              " 'index']"
            ]
          },
          "metadata": {},
          "execution_count": 194
        }
      ]
    },
    {
      "cell_type": "code",
      "source": [
        "#Property Decorators"
      ],
      "metadata": {
        "id": "lF_mn9ttFk3B"
      },
      "execution_count": 195,
      "outputs": []
    },
    {
      "cell_type": "code",
      "source": [
        "class pwskills:\n",
        "\n",
        "    def __init__(self, course_price, course_name):\n",
        "        self.__course_price = course_price\n",
        "        self.course_name = course_name\n",
        "\n",
        "    @property\n",
        "    def course_price_access(self):\n",
        "        return self.__course_price\n",
        "\n",
        "    @course_price_access.setter\n",
        "    def course_price_set(self, price):\n",
        "        if price <= 3500:\n",
        "            pass\n",
        "        else :\n",
        "            self.__course_price = price\n",
        "\n",
        "    @course_price_access.deleter\n",
        "    def course_price_del(self):\n",
        "        del self.__course_price"
      ],
      "metadata": {
        "id": "xw1iN45gF3-b"
      },
      "execution_count": 218,
      "outputs": []
    },
    {
      "cell_type": "code",
      "source": [
        "pw = pwskills(3500, \"data science masters\")"
      ],
      "metadata": {
        "id": "WwNpxUl7F6Ok"
      },
      "execution_count": 219,
      "outputs": []
    },
    {
      "cell_type": "code",
      "source": [
        "pw.course_price_access"
      ],
      "metadata": {
        "colab": {
          "base_uri": "https://localhost:8080/"
        },
        "id": "KlzEN3csIr9c",
        "outputId": "ba89a279-bbbb-4c1d-8f4f-2b00ebd7cc76"
      },
      "execution_count": 220,
      "outputs": [
        {
          "output_type": "execute_result",
          "data": {
            "text/plain": [
              "3500"
            ]
          },
          "metadata": {},
          "execution_count": 220
        }
      ]
    },
    {
      "cell_type": "code",
      "source": [
        "del pw.course_price_del"
      ],
      "metadata": {
        "colab": {
          "base_uri": "https://localhost:8080/",
          "height": 262
        },
        "id": "S468NbqUNPg1",
        "outputId": "86e432bb-14a9-4f87-da9f-f861e9394fc7"
      },
      "execution_count": 224,
      "outputs": [
        {
          "output_type": "error",
          "ename": "AttributeError",
          "evalue": "ignored",
          "traceback": [
            "\u001b[0;31m---------------------------------------------------------------------------\u001b[0m",
            "\u001b[0;31mAttributeError\u001b[0m                            Traceback (most recent call last)",
            "\u001b[0;32m<ipython-input-224-0956c8e50fef>\u001b[0m in \u001b[0;36m<cell line: 1>\u001b[0;34m()\u001b[0m\n\u001b[0;32m----> 1\u001b[0;31m \u001b[0;32mdel\u001b[0m \u001b[0mpw\u001b[0m\u001b[0;34m.\u001b[0m\u001b[0mcourse_price_del\u001b[0m\u001b[0;34m\u001b[0m\u001b[0;34m\u001b[0m\u001b[0m\n\u001b[0m",
            "\u001b[0;32m<ipython-input-218-51cbac801c89>\u001b[0m in \u001b[0;36mcourse_price_del\u001b[0;34m(self)\u001b[0m\n\u001b[1;32m     18\u001b[0m     \u001b[0;34m@\u001b[0m\u001b[0mcourse_price_access\u001b[0m\u001b[0;34m.\u001b[0m\u001b[0mdeleter\u001b[0m\u001b[0;34m\u001b[0m\u001b[0;34m\u001b[0m\u001b[0m\n\u001b[1;32m     19\u001b[0m     \u001b[0;32mdef\u001b[0m \u001b[0mcourse_price_del\u001b[0m\u001b[0;34m(\u001b[0m\u001b[0mself\u001b[0m\u001b[0;34m)\u001b[0m\u001b[0;34m:\u001b[0m\u001b[0;34m\u001b[0m\u001b[0;34m\u001b[0m\u001b[0m\n\u001b[0;32m---> 20\u001b[0;31m         \u001b[0;32mdel\u001b[0m \u001b[0mself\u001b[0m\u001b[0;34m.\u001b[0m\u001b[0m__course_price\u001b[0m\u001b[0;34m\u001b[0m\u001b[0;34m\u001b[0m\u001b[0m\n\u001b[0m",
            "\u001b[0;31mAttributeError\u001b[0m: _pwskills__course_price"
          ]
        }
      ]
    },
    {
      "cell_type": "code",
      "source": [
        "pw.course_price_set = 2300"
      ],
      "metadata": {
        "id": "vAfrKxeoKq1b"
      },
      "execution_count": 213,
      "outputs": []
    },
    {
      "cell_type": "code",
      "source": [
        "pw.course_price_access"
      ],
      "metadata": {
        "colab": {
          "base_uri": "https://localhost:8080/"
        },
        "id": "wwzVRFVXK9Ks",
        "outputId": "30d05864-940a-4805-8efc-fb9d8c4b799d"
      },
      "execution_count": 214,
      "outputs": [
        {
          "output_type": "execute_result",
          "data": {
            "text/plain": [
              "3500"
            ]
          },
          "metadata": {},
          "execution_count": 214
        }
      ]
    },
    {
      "cell_type": "code",
      "source": [
        "pw.course_price_set = 4500"
      ],
      "metadata": {
        "id": "4oWB1ao2LB1b"
      },
      "execution_count": 215,
      "outputs": []
    },
    {
      "cell_type": "code",
      "source": [
        "pw.course_price_access"
      ],
      "metadata": {
        "colab": {
          "base_uri": "https://localhost:8080/"
        },
        "id": "BTaR84CcLGkZ",
        "outputId": "612249ba-341b-46c5-d53d-6c7f03336393"
      },
      "execution_count": 216,
      "outputs": [
        {
          "output_type": "execute_result",
          "data": {
            "text/plain": [
              "4500"
            ]
          },
          "metadata": {},
          "execution_count": 216
        }
      ]
    },
    {
      "cell_type": "code",
      "source": [
        "pw.course_name"
      ],
      "metadata": {
        "colab": {
          "base_uri": "https://localhost:8080/",
          "height": 36
        },
        "id": "vy8QwgRfGsje",
        "outputId": "b02e7fbb-15db-4633-c5ec-7042f5095523"
      },
      "execution_count": 199,
      "outputs": [
        {
          "output_type": "execute_result",
          "data": {
            "text/plain": [
              "'data science masters'"
            ],
            "application/vnd.google.colaboratory.intrinsic+json": {
              "type": "string"
            }
          },
          "metadata": {},
          "execution_count": 199
        }
      ]
    },
    {
      "cell_type": "code",
      "source": [
        "pw._pwskills__course_price"
      ],
      "metadata": {
        "colab": {
          "base_uri": "https://localhost:8080/"
        },
        "id": "_eUZA6KWGvYV",
        "outputId": "6db46b49-e0e5-477b-f1d9-81be09f78a57"
      },
      "execution_count": 203,
      "outputs": [
        {
          "output_type": "execute_result",
          "data": {
            "text/plain": [
              "3500"
            ]
          },
          "metadata": {},
          "execution_count": 203
        }
      ]
    },
    {
      "cell_type": "code",
      "source": [],
      "metadata": {
        "id": "xb92PfRVG-p7"
      },
      "execution_count": null,
      "outputs": []
    }
  ]
}