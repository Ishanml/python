{
  "nbformat": 4,
  "nbformat_minor": 0,
  "metadata": {
    "colab": {
      "provenance": [],
      "authorship_tag": "ABX9TyNBOXQEZxc4+PoFKuS6eIHc",
      "include_colab_link": true
    },
    "kernelspec": {
      "name": "python3",
      "display_name": "Python 3"
    },
    "language_info": {
      "name": "python"
    }
  },
  "cells": [
    {
      "cell_type": "markdown",
      "metadata": {
        "id": "view-in-github",
        "colab_type": "text"
      },
      "source": [
        "<a href=\"https://colab.research.google.com/github/Ishanml/pythonweek2/blob/main/Week4oops.ipynb\" target=\"_parent\"><img src=\"https://colab.research.google.com/assets/colab-badge.svg\" alt=\"Open In Colab\"/></a>"
      ]
    },
    {
      "cell_type": "markdown",
      "source": [
        "## \"Oops\" stands for Object-Oriented Programming System"
      ],
      "metadata": {
        "id": "O2soG9Y6S-b2"
      }
    },
    {
      "cell_type": "code",
      "execution_count": 2,
      "metadata": {
        "id": "qTV1sU4nSo2x"
      },
      "outputs": [],
      "source": [
        "a = 1"
      ]
    },
    {
      "cell_type": "code",
      "source": [
        "print(type(a))"
      ],
      "metadata": {
        "colab": {
          "base_uri": "https://localhost:8080/"
        },
        "id": "FjYqQep8TM6o",
        "outputId": "36db9154-e6da-4c0e-9fd4-6acd331f74f3"
      },
      "execution_count": 3,
      "outputs": [
        {
          "output_type": "stream",
          "name": "stdout",
          "text": [
            "<class 'int'>\n"
          ]
        }
      ]
    },
    {
      "cell_type": "code",
      "source": [
        "print(type(\"pwskills\"))"
      ],
      "metadata": {
        "colab": {
          "base_uri": "https://localhost:8080/"
        },
        "id": "649Z6KOyTO3t",
        "outputId": "f5e987d5-0b21-4bf3-8aa7-66358d1d236c"
      },
      "execution_count": 4,
      "outputs": [
        {
          "output_type": "stream",
          "name": "stdout",
          "text": [
            "<class 'str'>\n"
          ]
        }
      ]
    },
    {
      "cell_type": "code",
      "source": [
        "class test:\n",
        "    pass"
      ],
      "metadata": {
        "id": "j8sQ_rY8TVNQ"
      },
      "execution_count": 5,
      "outputs": []
    },
    {
      "cell_type": "code",
      "source": [
        "a = test()"
      ],
      "metadata": {
        "id": "uqCpP2-LVJgQ"
      },
      "execution_count": 6,
      "outputs": []
    },
    {
      "cell_type": "code",
      "source": [
        "print(type(a))"
      ],
      "metadata": {
        "colab": {
          "base_uri": "https://localhost:8080/"
        },
        "id": "-K6LgPKHVVfy",
        "outputId": "8210f784-3cf8-474d-c570-d57ff4bfa5ec"
      },
      "execution_count": 7,
      "outputs": [
        {
          "output_type": "stream",
          "name": "stdout",
          "text": [
            "<class '__main__.test'>\n"
          ]
        }
      ]
    },
    {
      "cell_type": "code",
      "source": [
        "class pwskills:\n",
        "\n",
        "  def welcome_msg(self):\n",
        "      print(\"welcome to pwskills\")"
      ],
      "metadata": {
        "id": "xzFOk0otVX-2"
      },
      "execution_count": 8,
      "outputs": []
    },
    {
      "cell_type": "code",
      "source": [
        "rohan = pwskills()"
      ],
      "metadata": {
        "id": "yLb_jYomV4ID"
      },
      "execution_count": 9,
      "outputs": []
    },
    {
      "cell_type": "code",
      "source": [
        "rohan.welcome_msg()"
      ],
      "metadata": {
        "colab": {
          "base_uri": "https://localhost:8080/"
        },
        "id": "KWb8M5VRWB5C",
        "outputId": "dca4d08b-d1e0-4783-921c-d7a9094f65e6"
      },
      "execution_count": 10,
      "outputs": [
        {
          "output_type": "stream",
          "name": "stdout",
          "text": [
            "welcome to pwskills\n"
          ]
        }
      ]
    },
    {
      "cell_type": "code",
      "source": [
        "sohan = pwskills()"
      ],
      "metadata": {
        "id": "4w8XITrMWRYn"
      },
      "execution_count": 11,
      "outputs": []
    },
    {
      "cell_type": "code",
      "source": [
        "sohan.welcome_msg()"
      ],
      "metadata": {
        "colab": {
          "base_uri": "https://localhost:8080/"
        },
        "id": "cMv8WBSZWpZZ",
        "outputId": "a4806d54-9c9b-4088-c904-22e1221ac8c5"
      },
      "execution_count": 12,
      "outputs": [
        {
          "output_type": "stream",
          "name": "stdout",
          "text": [
            "welcome to pwskills\n"
          ]
        }
      ]
    },
    {
      "cell_type": "code",
      "source": [
        "a = 1"
      ],
      "metadata": {
        "id": "gC9YrtI6WumB"
      },
      "execution_count": 13,
      "outputs": []
    },
    {
      "cell_type": "code",
      "source": [
        "b = 2"
      ],
      "metadata": {
        "id": "ba1Lhs3hZIVW"
      },
      "execution_count": 14,
      "outputs": []
    },
    {
      "cell_type": "code",
      "source": [
        "a"
      ],
      "metadata": {
        "colab": {
          "base_uri": "https://localhost:8080/"
        },
        "id": "coc0ctnrZJYm",
        "outputId": "4ab7e05a-bc4a-4b80-a79d-912bc98c7d9e"
      },
      "execution_count": 15,
      "outputs": [
        {
          "output_type": "execute_result",
          "data": {
            "text/plain": [
              "1"
            ]
          },
          "metadata": {},
          "execution_count": 15
        }
      ]
    },
    {
      "cell_type": "code",
      "source": [
        "b"
      ],
      "metadata": {
        "colab": {
          "base_uri": "https://localhost:8080/"
        },
        "id": "9h7iKP5UZKCT",
        "outputId": "fdfb402c-5754-43c7-da3f-fd191c56db39"
      },
      "execution_count": 16,
      "outputs": [
        {
          "output_type": "execute_result",
          "data": {
            "text/plain": [
              "2"
            ]
          },
          "metadata": {},
          "execution_count": 16
        }
      ]
    },
    {
      "cell_type": "code",
      "source": [
        "class pwskills1:\n",
        "\n",
        "    def __init__(self ,phone_number , email_id, student_id):\n",
        "\n",
        "       self.phone_number = phone_number\n",
        "       self.email_id = email_id\n",
        "       self.student_id = student_id\n",
        "\n",
        "    def return_student_details(self):\n",
        "        return self.phone_number, self.email_id, self.student_id"
      ],
      "metadata": {
        "id": "sBeAuuzFZMcS"
      },
      "execution_count": 18,
      "outputs": []
    },
    {
      "cell_type": "code",
      "source": [
        "sohan = pwskills1(999932765, \"sohan@gmail.com\", 102)"
      ],
      "metadata": {
        "id": "4dp_fAgP5oRz"
      },
      "execution_count": 25,
      "outputs": []
    },
    {
      "cell_type": "code",
      "source": [
        "sohan.phone_number"
      ],
      "metadata": {
        "colab": {
          "base_uri": "https://localhost:8080/"
        },
        "id": "Pgny5tQv53Pp",
        "outputId": "4381a075-9c08-4c74-9ab7-750e2b547e2a"
      },
      "execution_count": 26,
      "outputs": [
        {
          "output_type": "execute_result",
          "data": {
            "text/plain": [
              "999932765"
            ]
          },
          "metadata": {},
          "execution_count": 26
        }
      ]
    },
    {
      "cell_type": "code",
      "source": [
        "sohan.return_student_details()"
      ],
      "metadata": {
        "colab": {
          "base_uri": "https://localhost:8080/"
        },
        "id": "JAX5V6mS566T",
        "outputId": "d58a3174-4b7f-4999-c46e-222bdb58ac92"
      },
      "execution_count": 27,
      "outputs": [
        {
          "output_type": "execute_result",
          "data": {
            "text/plain": [
              "(999932765, 'sohan@gmail.com', 102)"
            ]
          },
          "metadata": {},
          "execution_count": 27
        }
      ]
    },
    {
      "cell_type": "code",
      "source": [
        "rohan = pwskills1(9999999999, \"rohan@gmail.com\", 101)"
      ],
      "metadata": {
        "id": "jJG3Ip_paZxr"
      },
      "execution_count": 20,
      "outputs": []
    },
    {
      "cell_type": "code",
      "source": [
        "rohan.phone_number"
      ],
      "metadata": {
        "colab": {
          "base_uri": "https://localhost:8080/"
        },
        "id": "lSq9X6Uj2SYj",
        "outputId": "6f1b1775-3fb0-444f-bfcd-86dec589627b"
      },
      "execution_count": 21,
      "outputs": [
        {
          "output_type": "execute_result",
          "data": {
            "text/plain": [
              "9999999999"
            ]
          },
          "metadata": {},
          "execution_count": 21
        }
      ]
    },
    {
      "cell_type": "code",
      "source": [
        "rohan.email_id"
      ],
      "metadata": {
        "colab": {
          "base_uri": "https://localhost:8080/",
          "height": 36
        },
        "id": "HmLGgmis5RC_",
        "outputId": "90b3dd9a-c566-4774-82d9-f3930280fa12"
      },
      "execution_count": 22,
      "outputs": [
        {
          "output_type": "execute_result",
          "data": {
            "text/plain": [
              "'rohan@gmail.com'"
            ],
            "application/vnd.google.colaboratory.intrinsic+json": {
              "type": "string"
            }
          },
          "metadata": {},
          "execution_count": 22
        }
      ]
    },
    {
      "cell_type": "code",
      "source": [
        "rohan.student_id"
      ],
      "metadata": {
        "colab": {
          "base_uri": "https://localhost:8080/"
        },
        "id": "BCS00lKa5T5D",
        "outputId": "8cda8115-d7da-45f2-8138-54513b59d5fe"
      },
      "execution_count": 23,
      "outputs": [
        {
          "output_type": "execute_result",
          "data": {
            "text/plain": [
              "101"
            ]
          },
          "metadata": {},
          "execution_count": 23
        }
      ]
    },
    {
      "cell_type": "code",
      "source": [
        "rohan.return_student_details()"
      ],
      "metadata": {
        "colab": {
          "base_uri": "https://localhost:8080/"
        },
        "id": "aocu6q885WrQ",
        "outputId": "9b903f8b-3c2e-4f74-ed3e-c407d4fc220b"
      },
      "execution_count": 24,
      "outputs": [
        {
          "output_type": "execute_result",
          "data": {
            "text/plain": [
              "(9999999999, 'rohan@gmail.com', 101)"
            ]
          },
          "metadata": {},
          "execution_count": 24
        }
      ]
    },
    {
      "cell_type": "code",
      "source": [
        "class pwskills2:\n",
        "\n",
        "    def __init__(sudh ,phone_number , email_id, student_id):\n",
        "\n",
        "       sudh.phone_number = phone_number\n",
        "       sudh.email_id = email_id\n",
        "       sudh.student_id = student_id\n",
        "\n",
        "    def return_student_details(sudh):\n",
        "        return sudh.phone_number, sudh.email_id, sudh.student_id"
      ],
      "metadata": {
        "id": "Txz5n4qI5kyX"
      },
      "execution_count": 30,
      "outputs": []
    },
    {
      "cell_type": "code",
      "source": [
        "mohan = pwskills2(34567890, \"mohan@gmail.com\", 234)"
      ],
      "metadata": {
        "id": "Rls_4V016crR"
      },
      "execution_count": 31,
      "outputs": []
    },
    {
      "cell_type": "code",
      "source": [
        "mohan.return_student_details()"
      ],
      "metadata": {
        "colab": {
          "base_uri": "https://localhost:8080/"
        },
        "id": "EP9ZZwI16wL_",
        "outputId": "35cddc84-89a9-4b7c-c8e0-089e28813e45"
      },
      "execution_count": 32,
      "outputs": [
        {
          "output_type": "execute_result",
          "data": {
            "text/plain": [
              "(34567890, 'mohan@gmail.com', 234)"
            ]
          },
          "metadata": {},
          "execution_count": 32
        }
      ]
    },
    {
      "cell_type": "code",
      "source": [
        "mohan.phone_number"
      ],
      "metadata": {
        "colab": {
          "base_uri": "https://localhost:8080/"
        },
        "id": "KgdInDDA6203",
        "outputId": "2d988fa9-a2c5-4d7b-d4c5-123660d89b5e"
      },
      "execution_count": 34,
      "outputs": [
        {
          "output_type": "execute_result",
          "data": {
            "text/plain": [
              "34567890"
            ]
          },
          "metadata": {},
          "execution_count": 34
        }
      ]
    },
    {
      "cell_type": "code",
      "source": [
        "class pwskills3:\n",
        "\n",
        "    def __init__(sudh ,phone_number , email_id, student_id):\n",
        "\n",
        "       sudh.phone_number = phone_number\n",
        "       sudh.email_id = email_id\n",
        "       sudh.student_id = student_id\n",
        "\n",
        "    def return_student_details(sudh):\n",
        "        return sudh.phone_number, sudh.email_id, sudh.student_id"
      ],
      "metadata": {
        "id": "jW5lL71G7E6K"
      },
      "execution_count": 35,
      "outputs": []
    },
    {
      "cell_type": "code",
      "source": [
        "rohan = pwskills3(990909, \"rohan@gmail.com\", 123)"
      ],
      "metadata": {
        "id": "XiMiHf_d7O3w"
      },
      "execution_count": 36,
      "outputs": []
    },
    {
      "cell_type": "code",
      "source": [
        "rohan.phone_number"
      ],
      "metadata": {
        "colab": {
          "base_uri": "https://localhost:8080/"
        },
        "id": "bqzYr3jf7WLK",
        "outputId": "776ecae0-6ae9-4409-c475-18548a4e462c"
      },
      "execution_count": 37,
      "outputs": [
        {
          "output_type": "execute_result",
          "data": {
            "text/plain": [
              "990909"
            ]
          },
          "metadata": {},
          "execution_count": 37
        }
      ]
    },
    {
      "cell_type": "code",
      "source": [
        "#rohan.phone_number1"
      ],
      "metadata": {
        "id": "FNU1F_HY7aNt"
      },
      "execution_count": 38,
      "outputs": []
    },
    {
      "cell_type": "code",
      "source": [
        "rohan.return_student_details()"
      ],
      "metadata": {
        "colab": {
          "base_uri": "https://localhost:8080/"
        },
        "id": "DY-5QPfr7fmQ",
        "outputId": "d4759cba-1b4e-444e-ce49-b228742af09c"
      },
      "execution_count": 39,
      "outputs": [
        {
          "output_type": "execute_result",
          "data": {
            "text/plain": [
              "(990909, 'rohan@gmail.com', 123)"
            ]
          },
          "metadata": {},
          "execution_count": 39
        }
      ]
    },
    {
      "cell_type": "code",
      "source": [
        "#Polymorphism"
      ],
      "metadata": {
        "id": "dr7puW_G71qG"
      },
      "execution_count": 40,
      "outputs": []
    },
    {
      "cell_type": "code",
      "source": [
        "def test(a,b) :\n",
        "  return a+b"
      ],
      "metadata": {
        "id": "3ZMftuI99I3A"
      },
      "execution_count": 43,
      "outputs": []
    },
    {
      "cell_type": "code",
      "source": [
        "test(4,5)"
      ],
      "metadata": {
        "colab": {
          "base_uri": "https://localhost:8080/"
        },
        "id": "UEBk3BqI9kV7",
        "outputId": "7b2adc17-a6a1-4206-f45e-66b56f07d6f2"
      },
      "execution_count": 44,
      "outputs": [
        {
          "output_type": "execute_result",
          "data": {
            "text/plain": [
              "9"
            ]
          },
          "metadata": {},
          "execution_count": 44
        }
      ]
    },
    {
      "cell_type": "code",
      "source": [
        "test(\"sudh \", \"kumar\")"
      ],
      "metadata": {
        "colab": {
          "base_uri": "https://localhost:8080/",
          "height": 36
        },
        "id": "1vkduhel9mXY",
        "outputId": "4effd883-5ded-490f-e9b1-1ad2d77c204a"
      },
      "execution_count": 46,
      "outputs": [
        {
          "output_type": "execute_result",
          "data": {
            "text/plain": [
              "'sudh kumar'"
            ],
            "application/vnd.google.colaboratory.intrinsic+json": {
              "type": "string"
            }
          },
          "metadata": {},
          "execution_count": 46
        }
      ]
    },
    {
      "cell_type": "code",
      "source": [
        "test([2,3,4,5,5], [4,5,6,7])"
      ],
      "metadata": {
        "colab": {
          "base_uri": "https://localhost:8080/"
        },
        "id": "jph3k1yf9stc",
        "outputId": "810c03e1-5baa-44b5-bbe7-0a0f794a41a1"
      },
      "execution_count": 47,
      "outputs": [
        {
          "output_type": "execute_result",
          "data": {
            "text/plain": [
              "[2, 3, 4, 5, 5, 4, 5, 6, 7]"
            ]
          },
          "metadata": {},
          "execution_count": 47
        }
      ]
    },
    {
      "cell_type": "code",
      "source": [
        "class data_science:\n",
        "  def syllabus(self):\n",
        "      print(\"this is my method for data science syllabus \")"
      ],
      "metadata": {
        "id": "xSqkpKeT97GA"
      },
      "execution_count": 48,
      "outputs": []
    },
    {
      "cell_type": "code",
      "source": [
        "class web_dev :\n",
        "  def syllabus(self) :\n",
        "    print(\"this is my method for web dev\")"
      ],
      "metadata": {
        "id": "D5xNdxtp-Qxy"
      },
      "execution_count": 49,
      "outputs": []
    },
    {
      "cell_type": "code",
      "source": [
        "def class_parcer(class_obj) :\n",
        "  for i in class_obj :\n",
        "      i.syllabus()"
      ],
      "metadata": {
        "id": "Tzp7W54v-bqv"
      },
      "execution_count": 55,
      "outputs": []
    },
    {
      "cell_type": "code",
      "source": [
        "obj_data_science = data_science()"
      ],
      "metadata": {
        "id": "-j8PW2Bm-puw"
      },
      "execution_count": 56,
      "outputs": []
    },
    {
      "cell_type": "code",
      "source": [
        "obj_web_dev = web_dev()"
      ],
      "metadata": {
        "id": "Z-nKoFq4-y5c"
      },
      "execution_count": 57,
      "outputs": []
    },
    {
      "cell_type": "code",
      "source": [
        "class_obj = [obj_data_science, obj_web_dev]"
      ],
      "metadata": {
        "id": "Rm-0VahR_A_Z"
      },
      "execution_count": 58,
      "outputs": []
    },
    {
      "cell_type": "code",
      "source": [
        "class_parcer(class_obj)"
      ],
      "metadata": {
        "colab": {
          "base_uri": "https://localhost:8080/"
        },
        "id": "TbvQs5l6_JRi",
        "outputId": "7ad0e10c-9dc3-4aee-8881-d5cc5b8d076e"
      },
      "execution_count": 59,
      "outputs": [
        {
          "output_type": "stream",
          "name": "stdout",
          "text": [
            "this is my method for data science syllabus \n",
            "this is my method for web dev\n"
          ]
        }
      ]
    },
    {
      "cell_type": "code",
      "source": [
        "#encapsulation"
      ],
      "metadata": {
        "id": "sP6JnoAY_P31"
      },
      "execution_count": 60,
      "outputs": []
    },
    {
      "cell_type": "code",
      "source": [
        "class test :\n",
        "    def __init__(self, a, b) :\n",
        "        self.a = a\n",
        "        self.b = b"
      ],
      "metadata": {
        "id": "2_H7-oyLBGsZ"
      },
      "execution_count": 81,
      "outputs": []
    },
    {
      "cell_type": "code",
      "source": [
        "t = test(45,56)"
      ],
      "metadata": {
        "id": "SzxuL4DZBfO4"
      },
      "execution_count": 82,
      "outputs": []
    },
    {
      "cell_type": "code",
      "source": [
        "t.a"
      ],
      "metadata": {
        "colab": {
          "base_uri": "https://localhost:8080/"
        },
        "id": "KDSJCoCaBnLe",
        "outputId": "93f816b0-2c28-4f97-aed1-248f0f1b1594"
      },
      "execution_count": 83,
      "outputs": [
        {
          "output_type": "execute_result",
          "data": {
            "text/plain": [
              "45"
            ]
          },
          "metadata": {},
          "execution_count": 83
        }
      ]
    },
    {
      "cell_type": "code",
      "source": [
        "t.b"
      ],
      "metadata": {
        "colab": {
          "base_uri": "https://localhost:8080/"
        },
        "id": "0t9qMAVZBn-R",
        "outputId": "48d7e843-baac-44f3-e670-2e3b0ad0e47d"
      },
      "execution_count": 84,
      "outputs": [
        {
          "output_type": "execute_result",
          "data": {
            "text/plain": [
              "56"
            ]
          },
          "metadata": {},
          "execution_count": 84
        }
      ]
    },
    {
      "cell_type": "code",
      "source": [
        "t.a = 3243"
      ],
      "metadata": {
        "id": "TMjSQuqUBorE"
      },
      "execution_count": 85,
      "outputs": []
    },
    {
      "cell_type": "code",
      "source": [
        "t.a"
      ],
      "metadata": {
        "colab": {
          "base_uri": "https://localhost:8080/"
        },
        "id": "PU2GedShB0Cc",
        "outputId": "7f0d9547-0fdd-4368-eda8-23578faaa460"
      },
      "execution_count": 86,
      "outputs": [
        {
          "output_type": "execute_result",
          "data": {
            "text/plain": [
              "3243"
            ]
          },
          "metadata": {},
          "execution_count": 86
        }
      ]
    },
    {
      "cell_type": "code",
      "source": [
        "class car:\n",
        "\n",
        "    def __init__(self, year, make, mode1, speed ):\n",
        "        self.__year = year\n",
        "        self.__make = make\n",
        "        self.__mode1 = mode1\n",
        "        self.__speed = 0\n",
        "\n",
        "    def set_speed(self, speed) :\n",
        "        self.__speed = 0 if speed < 0 else speed\n",
        "\n",
        "    def get_speed(self) :\n",
        "        return self.__speed"
      ],
      "metadata": {
        "id": "OfV3FDAOB1Fi"
      },
      "execution_count": 92,
      "outputs": []
    },
    {
      "cell_type": "code",
      "source": [
        "obj_car."
      ],
      "metadata": {
        "colab": {
          "base_uri": "https://localhost:8080/",
          "height": 175
        },
        "id": "tdtTyacYKCvX",
        "outputId": "c24286d7-d6cf-4866-e72d-8cfad8110d89"
      },
      "execution_count": 94,
      "outputs": [
        {
          "output_type": "error",
          "ename": "AttributeError",
          "evalue": "ignored",
          "traceback": [
            "\u001b[0;31m---------------------------------------------------------------------------\u001b[0m",
            "\u001b[0;31mAttributeError\u001b[0m                            Traceback (most recent call last)",
            "\u001b[0;32m<ipython-input-94-a527403c4d95>\u001b[0m in \u001b[0;36m<cell line: 1>\u001b[0;34m()\u001b[0m\n\u001b[0;32m----> 1\u001b[0;31m \u001b[0mobj_car\u001b[0m\u001b[0;34m.\u001b[0m\u001b[0mget_speed\u001b[0m\u001b[0;34m(\u001b[0m\u001b[0;34m)\u001b[0m\u001b[0;34m\u001b[0m\u001b[0;34m\u001b[0m\u001b[0m\n\u001b[0m",
            "\u001b[0;31mAttributeError\u001b[0m: 'car' object has no attribute 'get_speed'"
          ]
        }
      ]
    },
    {
      "cell_type": "code",
      "source": [
        "obj_car.set_speed(-1234)"
      ],
      "metadata": {
        "id": "DHvMs6M0EwM6"
      },
      "execution_count": 90,
      "outputs": []
    },
    {
      "cell_type": "code",
      "source": [
        "obj_car.set_speed(3453)"
      ],
      "metadata": {
        "id": "FlNmrIacGAjo"
      },
      "execution_count": 89,
      "outputs": []
    },
    {
      "cell_type": "code",
      "source": [
        "obj_car = car(2021, \"toyota\", \"innova\", 12)"
      ],
      "metadata": {
        "id": "3iUeGDzkDH9E"
      },
      "execution_count": 95,
      "outputs": []
    },
    {
      "cell_type": "code",
      "source": [
        "obj_car._car__year = 2023"
      ],
      "metadata": {
        "id": "E92iNXeyDQPJ"
      },
      "execution_count": 72,
      "outputs": []
    },
    {
      "cell_type": "code",
      "source": [
        "obj_car._car__year"
      ],
      "metadata": {
        "colab": {
          "base_uri": "https://localhost:8080/"
        },
        "id": "hyoRUPjxD3RO",
        "outputId": "07dea3bb-6839-431f-ec6f-57e3af4dc72a"
      },
      "execution_count": 73,
      "outputs": [
        {
          "output_type": "execute_result",
          "data": {
            "text/plain": [
              "2023"
            ]
          },
          "metadata": {},
          "execution_count": 73
        }
      ]
    },
    {
      "cell_type": "code",
      "source": [
        "obj_car._car__speed"
      ],
      "metadata": {
        "colab": {
          "base_uri": "https://localhost:8080/"
        },
        "id": "0cd5jThZEXPK",
        "outputId": "ecf65068-a95d-444e-de4f-a238e70f5fe8"
      },
      "execution_count": 91,
      "outputs": [
        {
          "output_type": "execute_result",
          "data": {
            "text/plain": [
              "0"
            ]
          },
          "metadata": {},
          "execution_count": 91
        }
      ]
    },
    {
      "cell_type": "code",
      "source": [],
      "metadata": {
        "id": "lSO1dgdrJqbX"
      },
      "execution_count": null,
      "outputs": []
    }
  ]
}